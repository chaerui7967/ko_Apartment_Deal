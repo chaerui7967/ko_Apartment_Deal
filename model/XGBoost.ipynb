{
 "cells": [
  {
   "cell_type": "code",
   "execution_count": 1,
   "id": "b9c4f85d",
   "metadata": {},
   "outputs": [],
   "source": [
    "import numpy as np\n",
    "import pandas as pd\n",
    "import matplotlib.pyplot as plt\n",
    "import seaborn as sns\n",
    "\n",
    "from sklearn.model_selection import train_test_split\n",
    "from sklearn.metrics import mean_squared_error\n",
    "\n",
    "df = pd.read_csv('./seoul_4.csv')"
   ]
  },
  {
   "cell_type": "code",
   "execution_count": 2,
   "id": "038e7936",
   "metadata": {},
   "outputs": [
    {
     "data": {
      "text/html": [
       "<div>\n",
       "<style scoped>\n",
       "    .dataframe tbody tr th:only-of-type {\n",
       "        vertical-align: middle;\n",
       "    }\n",
       "\n",
       "    .dataframe tbody tr th {\n",
       "        vertical-align: top;\n",
       "    }\n",
       "\n",
       "    .dataframe thead th {\n",
       "        text-align: right;\n",
       "    }\n",
       "</style>\n",
       "<table border=\"1\" class=\"dataframe\">\n",
       "  <thead>\n",
       "    <tr style=\"text-align: right;\">\n",
       "      <th></th>\n",
       "      <th>gu_l</th>\n",
       "      <th>dong_l</th>\n",
       "      <th>s_c</th>\n",
       "      <th>used_y</th>\n",
       "      <th>square</th>\n",
       "      <th>per_cost_man</th>\n",
       "      <th>floor</th>\n",
       "      <th>YN_r</th>\n",
       "      <th>YN_top10</th>\n",
       "      <th>cost</th>\n",
       "    </tr>\n",
       "  </thead>\n",
       "  <tbody>\n",
       "    <tr>\n",
       "      <th>0</th>\n",
       "      <td>0</td>\n",
       "      <td>8</td>\n",
       "      <td>1</td>\n",
       "      <td>32</td>\n",
       "      <td>77.75</td>\n",
       "      <td>1922.829582</td>\n",
       "      <td>7</td>\n",
       "      <td>1</td>\n",
       "      <td>1</td>\n",
       "      <td>149500</td>\n",
       "    </tr>\n",
       "    <tr>\n",
       "      <th>1</th>\n",
       "      <td>0</td>\n",
       "      <td>8</td>\n",
       "      <td>1</td>\n",
       "      <td>33</td>\n",
       "      <td>54.98</td>\n",
       "      <td>2619.134231</td>\n",
       "      <td>7</td>\n",
       "      <td>1</td>\n",
       "      <td>1</td>\n",
       "      <td>144000</td>\n",
       "    </tr>\n",
       "    <tr>\n",
       "      <th>2</th>\n",
       "      <td>0</td>\n",
       "      <td>8</td>\n",
       "      <td>1</td>\n",
       "      <td>33</td>\n",
       "      <td>79.97</td>\n",
       "      <td>2035.138177</td>\n",
       "      <td>7</td>\n",
       "      <td>1</td>\n",
       "      <td>1</td>\n",
       "      <td>162750</td>\n",
       "    </tr>\n",
       "    <tr>\n",
       "      <th>3</th>\n",
       "      <td>0</td>\n",
       "      <td>8</td>\n",
       "      <td>1</td>\n",
       "      <td>33</td>\n",
       "      <td>79.97</td>\n",
       "      <td>2000.750281</td>\n",
       "      <td>8</td>\n",
       "      <td>1</td>\n",
       "      <td>1</td>\n",
       "      <td>160000</td>\n",
       "    </tr>\n",
       "    <tr>\n",
       "      <th>4</th>\n",
       "      <td>0</td>\n",
       "      <td>8</td>\n",
       "      <td>1</td>\n",
       "      <td>33</td>\n",
       "      <td>79.97</td>\n",
       "      <td>1875.703389</td>\n",
       "      <td>5</td>\n",
       "      <td>1</td>\n",
       "      <td>1</td>\n",
       "      <td>150000</td>\n",
       "    </tr>\n",
       "  </tbody>\n",
       "</table>\n",
       "</div>"
      ],
      "text/plain": [
       "   gu_l  dong_l  s_c  used_y  square  per_cost_man  floor  YN_r  YN_top10  \\\n",
       "0     0       8    1      32   77.75   1922.829582      7     1         1   \n",
       "1     0       8    1      33   54.98   2619.134231      7     1         1   \n",
       "2     0       8    1      33   79.97   2035.138177      7     1         1   \n",
       "3     0       8    1      33   79.97   2000.750281      8     1         1   \n",
       "4     0       8    1      33   79.97   1875.703389      5     1         1   \n",
       "\n",
       "     cost  \n",
       "0  149500  \n",
       "1  144000  \n",
       "2  162750  \n",
       "3  160000  \n",
       "4  150000  "
      ]
     },
     "execution_count": 2,
     "metadata": {},
     "output_type": "execute_result"
    }
   ],
   "source": [
    "df.head()"
   ]
  },
  {
   "cell_type": "code",
   "execution_count": 3,
   "id": "f3dc6661",
   "metadata": {},
   "outputs": [],
   "source": [
    "X = df.drop(['cost'], axis = 1)\n",
    "y = df['cost']\n",
    "\n",
    "X_train, X_test, y_train, y_test = train_test_split(X, y,\n",
    "                                                   test_size = 0.2,\n",
    "                                                   random_state = 99)"
   ]
  },
  {
   "cell_type": "code",
   "execution_count": 5,
   "id": "729d46f4",
   "metadata": {},
   "outputs": [
    {
     "name": "stdout",
     "output_type": "stream",
     "text": [
      "CPU times: user 3 µs, sys: 0 ns, total: 3 µs\n",
      "Wall time: 9.06 µs\n"
     ]
    },
    {
     "data": {
      "text/plain": [
       "XGBRegressor(base_score=0.5, booster='gblinear', colsample_bylevel=None,\n",
       "             colsample_bynode=None, colsample_bytree=None, gamma=None,\n",
       "             gpu_id=-1, importance_type='gain', interaction_constraints=None,\n",
       "             learning_rate=0.001, max_delta_step=None, max_depth=None,\n",
       "             min_child_weight=None, missing=nan, monotone_constraints=None,\n",
       "             n_estimators=9000, n_jobs=-1, num_parallel_tree=None,\n",
       "             random_state=99, reg_alpha=0, reg_lambda=2.0, scale_pos_weight=1,\n",
       "             subsample=None, tree_method=None, validate_parameters=1,\n",
       "             verbosity=None)"
      ]
     },
     "execution_count": 5,
     "metadata": {},
     "output_type": "execute_result"
    }
   ],
   "source": [
    "%time\n",
    "from xgboost import XGBRegressor,plot_importance\n",
    "\n",
    "xgb = XGBRegressor(booster = 'gblinear',\n",
    "                  n_estimators = 9000,\n",
    "                  learning_rate = 0.001,\n",
    "                  reg_lambda = 2.0, ## l2 파라미터, l1파라미터 => alpha\n",
    "                  n_jobs = -1,\n",
    "                  random_state = 99)\n",
    "\n",
    "xgb.fit(X_train, y_train)"
   ]
  },
  {
   "cell_type": "code",
   "execution_count": 6,
   "id": "65f1ed39",
   "metadata": {},
   "outputs": [],
   "source": [
    "MSE = mean_squared_error(y_test, xgb.predict(X_test))"
   ]
  },
  {
   "cell_type": "code",
   "execution_count": 7,
   "id": "ec56df7a",
   "metadata": {},
   "outputs": [
    {
     "name": "stdout",
     "output_type": "stream",
     "text": [
      "MSE : 814012716.9957609\n",
      "RMSE : 28530.908099739147\n"
     ]
    }
   ],
   "source": [
    "from math import sqrt\n",
    "\n",
    "print(f'MSE : {MSE}')\n",
    "print(f'RMSE : {sqrt(MSE)}')"
   ]
  },
  {
   "cell_type": "code",
   "execution_count": 10,
   "id": "2b446358",
   "metadata": {},
   "outputs": [
    {
     "data": {
      "text/plain": [
       "array([93935.7  , 93809.66 , 43272.715, ..., 66099.17 , 34464.418,\n",
       "       62556.246], dtype=float32)"
      ]
     },
     "execution_count": 10,
     "metadata": {},
     "output_type": "execute_result"
    }
   ],
   "source": [
    "xgb.predict(X_test)"
   ]
  },
  {
   "cell_type": "code",
   "execution_count": 11,
   "id": "4ca93b94",
   "metadata": {},
   "outputs": [
    {
     "data": {
      "text/plain": [
       "['xgb_model.pkl']"
      ]
     },
     "execution_count": 11,
     "metadata": {},
     "output_type": "execute_result"
    }
   ],
   "source": [
    "import joblib\n",
    "\n",
    "joblib.dump(xgb, 'xgb_model.pkl')"
   ]
  },
  {
   "cell_type": "code",
   "execution_count": 12,
   "id": "f12239ec",
   "metadata": {},
   "outputs": [
    {
     "data": {
      "text/plain": [
       "array([93935.7  , 93809.66 , 43272.715, ..., 66099.17 , 34464.418,\n",
       "       62556.246], dtype=float32)"
      ]
     },
     "execution_count": 12,
     "metadata": {},
     "output_type": "execute_result"
    }
   ],
   "source": [
    "xgb_from_joblib = joblib.load('xgb_model.pkl') \n",
    "xgb_from_joblib.predict(X_test)"
   ]
  },
  {
   "cell_type": "code",
   "execution_count": null,
   "id": "dec53379",
   "metadata": {},
   "outputs": [],
   "source": []
  }
 ],
 "metadata": {
  "kernelspec": {
   "display_name": "Python 3",
   "language": "python",
   "name": "python3"
  },
  "language_info": {
   "codemirror_mode": {
    "name": "ipython",
    "version": 3
   },
   "file_extension": ".py",
   "mimetype": "text/x-python",
   "name": "python",
   "nbconvert_exporter": "python",
   "pygments_lexer": "ipython3",
   "version": "3.7.11"
  }
 },
 "nbformat": 4,
 "nbformat_minor": 5
}
