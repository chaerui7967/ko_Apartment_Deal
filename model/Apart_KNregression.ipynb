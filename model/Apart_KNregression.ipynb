{
  "nbformat": 4,
  "nbformat_minor": 0,
  "metadata": {
    "colab": {
      "name": "Apart_KNregression.ipynb",
      "provenance": [],
      "collapsed_sections": [],
      "authorship_tag": "ABX9TyO5tOhoW9vt507nYsIGv1ZJ",
      "include_colab_link": true
    },
    "kernelspec": {
      "name": "python3",
      "display_name": "Python 3"
    },
    "language_info": {
      "name": "python"
    }
  },
  "cells": [
    {
      "cell_type": "markdown",
      "metadata": {
        "id": "view-in-github",
        "colab_type": "text"
      },
      "source": [
        "<a href=\"https://colab.research.google.com/github/chaerui7967/ko_Apartment_Deal/blob/master/Apart_KNregression.ipynb\" target=\"_parent\"><img src=\"https://colab.research.google.com/assets/colab-badge.svg\" alt=\"Open In Colab\"/></a>"
      ]
    },
    {
      "cell_type": "code",
      "metadata": {
        "id": "WwZ52yfjF1T5"
      },
      "source": [
        "import pandas as pd\n",
        "import numpy as np\n",
        "import matplotlib.pyplot as plt\n",
        "import seaborn as sns\n",
        "\n",
        "from sklearn.neighbors import KNeighborsRegressor\n",
        "from sklearn.model_selection import train_test_split\n",
        "from sklearn.metrics import mean_squared_error\n",
        "from sklearn.preprocessing import MinMaxScaler"
      ],
      "execution_count": 1,
      "outputs": []
    },
    {
      "cell_type": "code",
      "metadata": {
        "colab": {
          "base_uri": "https://localhost:8080/"
        },
        "id": "ye6D9TFGHNO8",
        "outputId": "3adbfb1f-fef4-4d52-c1f7-665749a08e94"
      },
      "source": [
        "from google.colab import drive\n",
        "\n",
        "drive.mount('/content/drive')"
      ],
      "execution_count": 2,
      "outputs": [
        {
          "output_type": "stream",
          "text": [
            "Mounted at /content/drive\n"
          ],
          "name": "stdout"
        }
      ]
    },
    {
      "cell_type": "code",
      "metadata": {
        "colab": {
          "base_uri": "https://localhost:8080/"
        },
        "id": "Divhoi9-F8c7",
        "outputId": "989a9cef-64e1-4501-bd32-4bd0c3afb1fa"
      },
      "source": [
        "df = pd.read_csv('/content/drive/My Drive/Colab Notebooks/project/Apart_Deal.csv')"
      ],
      "execution_count": 3,
      "outputs": [
        {
          "output_type": "stream",
          "text": [
            "/usr/local/lib/python3.7/dist-packages/IPython/core/interactiveshell.py:2718: DtypeWarning: Columns (6) have mixed types.Specify dtype option on import or set low_memory=False.\n",
            "  interactivity=interactivity, compiler=compiler, result=result)\n"
          ],
          "name": "stderr"
        }
      ]
    },
    {
      "cell_type": "code",
      "metadata": {
        "id": "MFxNUMYdGA8f"
      },
      "source": [
        "df.columns = ['code', 'dong', 'date', 'apart_name','region_num', 'square', 'floor', 'blit_year', 'cost']\n",
        "df.drop(['dong','apart_name','region_num','date'],axis=1, inplace=True)\n",
        "\n",
        "# 층수에서 공백 행 제거\n",
        "space = df[df['floor']==' '].index\n",
        "df.drop(space, inplace=True)\n",
        "\n",
        "df['floor'] = df['floor'].astype('int')"
      ],
      "execution_count": 4,
      "outputs": []
    },
    {
      "cell_type": "code",
      "metadata": {
        "id": "H6DH78KLGB02"
      },
      "source": [
        "X = df.drop('cost', axis = 1)\n",
        "y = df['cost']\n",
        "\n",
        "Norm = MinMaxScaler()\n",
        "X_Norm = Norm.fit_transform(X)\n",
        "\n",
        "X_train, X_test, y_train, y_test = train_test_split(X_Norm, y, test_size = 0.3, random_state = 0)"
      ],
      "execution_count": 5,
      "outputs": []
    },
    {
      "cell_type": "code",
      "metadata": {
        "colab": {
          "base_uri": "https://localhost:8080/"
        },
        "id": "PlkmbEhMGIRY",
        "outputId": "bc03bddb-d900-4e44-d5a4-f657121eaa51"
      },
      "source": [
        "re = KNeighborsRegressor(n_neighbors = 10, weights = \"distance\")\n",
        "re.fit(X_train, y_train)"
      ],
      "execution_count": 6,
      "outputs": [
        {
          "output_type": "execute_result",
          "data": {
            "text/plain": [
              "KNeighborsRegressor(algorithm='auto', leaf_size=30, metric='minkowski',\n",
              "                    metric_params=None, n_jobs=None, n_neighbors=10, p=2,\n",
              "                    weights='distance')"
            ]
          },
          "metadata": {
            "tags": []
          },
          "execution_count": 6
        }
      ]
    },
    {
      "cell_type": "code",
      "metadata": {
        "colab": {
          "base_uri": "https://localhost:8080/"
        },
        "id": "KlBkcS_5IWUt",
        "outputId": "6bf11aa5-2781-4abe-e109-101fb04003bf"
      },
      "source": [
        "# 결정 계수\n",
        "print(f'R-squre = {re.score(X_test, y_test)}')"
      ],
      "execution_count": 9,
      "outputs": [
        {
          "output_type": "stream",
          "text": [
            "R-squre = 0.8560739059029036\n"
          ],
          "name": "stdout"
        }
      ]
    },
    {
      "cell_type": "code",
      "metadata": {
        "id": "VoKy5JhHH1QV"
      },
      "source": [
        "pred = re.predict(X_test)"
      ],
      "execution_count": 7,
      "outputs": []
    },
    {
      "cell_type": "code",
      "metadata": {
        "colab": {
          "base_uri": "https://localhost:8080/"
        },
        "id": "8DQWcVa7IcgP",
        "outputId": "49a1f4ce-9894-45c9-9f0e-7b83f1aeb661"
      },
      "source": [
        "# MSE 확인\n",
        "print(f'mse = {mean_squared_error(y_test, pred)}')"
      ],
      "execution_count": 10,
      "outputs": [
        {
          "output_type": "stream",
          "text": [
            "mse = 97591879.51849331\n"
          ],
          "name": "stdout"
        }
      ]
    },
    {
      "cell_type": "code",
      "metadata": {
        "colab": {
          "base_uri": "https://localhost:8080/"
        },
        "id": "jE1ZBoycIwbi",
        "outputId": "c4c4ee08-cd26-4678-dc0d-277cf159ddaa"
      },
      "source": [
        "# RMSE\n",
        "from math import sqrt\n",
        "print(f'RMSE = {sqrt(mean_squared_error(y_test, pred))}')"
      ],
      "execution_count": 11,
      "outputs": [
        {
          "output_type": "stream",
          "text": [
            "RMSE = 9878.860233776633\n"
          ],
          "name": "stdout"
        }
      ]
    },
    {
      "cell_type": "code",
      "metadata": {
        "colab": {
          "base_uri": "https://localhost:8080/",
          "height": 490
        },
        "id": "XStRZxc5I--K",
        "outputId": "b487831a-b9a2-4a66-f0c7-af403d2c21bf"
      },
      "source": [
        "y_X = re.predict(X_Norm)\n",
        "\n",
        "plt.figure(figsize = (9,6))\n",
        "ax1=sns.distplot(y, hist = False, label='y')\n",
        "ax2=sns.distplot(y_X, hist=False, label='y_X', ax=ax1)\n",
        "plt.show()"
      ],
      "execution_count": 12,
      "outputs": [
        {
          "output_type": "stream",
          "text": [
            "/usr/local/lib/python3.7/dist-packages/seaborn/distributions.py:2557: FutureWarning: `distplot` is a deprecated function and will be removed in a future version. Please adapt your code to use either `displot` (a figure-level function with similar flexibility) or `kdeplot` (an axes-level function for kernel density plots).\n",
            "  warnings.warn(msg, FutureWarning)\n",
            "/usr/local/lib/python3.7/dist-packages/seaborn/distributions.py:2557: FutureWarning: `distplot` is a deprecated function and will be removed in a future version. Please adapt your code to use either `displot` (a figure-level function with similar flexibility) or `kdeplot` (an axes-level function for kernel density plots).\n",
            "  warnings.warn(msg, FutureWarning)\n"
          ],
          "name": "stderr"
        },
        {
          "output_type": "display_data",
          "data": {
            "image/png": "[encoded data removed]",
            "text/plain": [
              "<Figure size 648x432 with 1 Axes>"
            ]
          },
          "metadata": {
            "tags": [],
            "needs_background": "light"
          }
        }
      ]
    }
  ]
}