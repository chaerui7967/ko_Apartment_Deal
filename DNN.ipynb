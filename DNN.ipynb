{
  "nbformat": 4,
  "nbformat_minor": 0,
  "metadata": {
    "colab": {
      "name": "DNN",
      "provenance": [],
      "collapsed_sections": [],
      "authorship_tag": "ABX9TyN9e8c3bPsn60lStrlj9BwH",
      "include_colab_link": true
    },
    "kernelspec": {
      "name": "python3",
      "display_name": "Python 3"
    },
    "language_info": {
      "name": "python"
    },
    "accelerator": "GPU"
  },
  "cells": [
    {
      "cell_type": "markdown",
      "metadata": {
        "id": "view-in-github",
        "colab_type": "text"
      },
      "source": [
        "<a href=\"https://colab.research.google.com/github/chaerui7967/ko_Apartment_Deal/blob/master/DNN.ipynb\" target=\"_parent\"><img src=\"https://colab.research.google.com/assets/colab-badge.svg\" alt=\"Open In Colab\"/></a>"
      ]
    },
    {
      "cell_type": "markdown",
      "metadata": {
        "id": "xk_pkVOP1bNL"
      },
      "source": [
        "# 서울 집값 예측"
      ]
    },
    {
      "cell_type": "code",
      "metadata": {
        "colab": {
          "base_uri": "https://localhost:8080/",
          "height": 35
        },
        "id": "lUHTgtbq1gbv",
        "outputId": "af01aeb8-32a0-4b8c-cabe-06d0da55f3c8"
      },
      "source": [
        "import tensorflow as tf\n",
        "\n",
        "tf.__version__"
      ],
      "execution_count": null,
      "outputs": [
        {
          "output_type": "execute_result",
          "data": {
            "application/vnd.google.colaboratory.intrinsic+json": {
              "type": "string"
            },
            "text/plain": [
              "'2.6.0'"
            ]
          },
          "metadata": {},
          "execution_count": 1
        }
      ]
    },
    {
      "cell_type": "code",
      "metadata": {
        "id": "qItVkFC60oB2"
      },
      "source": [
        "import numpy as np\n",
        "import pandas as pd\n",
        "import matplotlib.pyplot as plt\n",
        "import seaborn as sns"
      ],
      "execution_count": null,
      "outputs": []
    },
    {
      "cell_type": "code",
      "metadata": {
        "colab": {
          "base_uri": "https://localhost:8080/"
        },
        "id": "41FECPZR09IR",
        "outputId": "10c8778e-c2a8-4efe-c9fd-1fe8ce03cc38"
      },
      "source": [
        "from google.colab import drive\n",
        "\n",
        "drive.mount('/content/drive')"
      ],
      "execution_count": null,
      "outputs": [
        {
          "output_type": "stream",
          "text": [
            "Mounted at /content/drive\n"
          ],
          "name": "stdout"
        }
      ]
    },
    {
      "cell_type": "code",
      "metadata": {
        "id": "-x6mNtS51AUY"
      },
      "source": [
        "df = pd.read_csv('/content/drive/My Drive/Colab Notebooks/project/seoul_5.csv')"
      ],
      "execution_count": null,
      "outputs": []
    },
    {
      "cell_type": "code",
      "metadata": {
        "colab": {
          "base_uri": "https://localhost:8080/",
          "height": 80
        },
        "id": "XsAxCCCr2MAh",
        "outputId": "ef288f63-331c-44ad-b844-9220894c4c9f"
      },
      "source": [
        "df.head(1)"
      ],
      "execution_count": null,
      "outputs": [
        {
          "output_type": "execute_result",
          "data": {
            "text/html": [
              "<div>\n",
              "<style scoped>\n",
              "    .dataframe tbody tr th:only-of-type {\n",
              "        vertical-align: middle;\n",
              "    }\n",
              "\n",
              "    .dataframe tbody tr th {\n",
              "        vertical-align: top;\n",
              "    }\n",
              "\n",
              "    .dataframe thead th {\n",
              "        text-align: right;\n",
              "    }\n",
              "</style>\n",
              "<table border=\"1\" class=\"dataframe\">\n",
              "  <thead>\n",
              "    <tr style=\"text-align: right;\">\n",
              "      <th></th>\n",
              "      <th>gu_l</th>\n",
              "      <th>dong_l</th>\n",
              "      <th>used_y</th>\n",
              "      <th>square</th>\n",
              "      <th>per_cost_man</th>\n",
              "      <th>Price per squar</th>\n",
              "      <th>floor</th>\n",
              "      <th>top10</th>\n",
              "      <th>YN_r</th>\n",
              "      <th>YN_top10</th>\n",
              "      <th>s_c</th>\n",
              "      <th>Hospital</th>\n",
              "      <th>cost</th>\n",
              "    </tr>\n",
              "  </thead>\n",
              "  <tbody>\n",
              "    <tr>\n",
              "      <th>0</th>\n",
              "      <td>0</td>\n",
              "      <td>8</td>\n",
              "      <td>32</td>\n",
              "      <td>77.75</td>\n",
              "      <td>1922.829582</td>\n",
              "      <td>2122.127392</td>\n",
              "      <td>7</td>\n",
              "      <td>0</td>\n",
              "      <td>1</td>\n",
              "      <td>1</td>\n",
              "      <td>1</td>\n",
              "      <td>0.0</td>\n",
              "      <td>149500</td>\n",
              "    </tr>\n",
              "  </tbody>\n",
              "</table>\n",
              "</div>"
            ],
            "text/plain": [
              "   gu_l  dong_l  used_y  square  ...  YN_top10  s_c  Hospital    cost\n",
              "0     0       8      32   77.75  ...         1    1       0.0  149500\n",
              "\n",
              "[1 rows x 13 columns]"
            ]
          },
          "metadata": {},
          "execution_count": 5
        }
      ]
    },
    {
      "cell_type": "code",
      "metadata": {
        "id": "T8_037g2115B"
      },
      "source": [
        "from sklearn.model_selection import train_test_split"
      ],
      "execution_count": null,
      "outputs": []
    },
    {
      "cell_type": "code",
      "metadata": {
        "id": "5hNqoYyI2I2U"
      },
      "source": [
        "X = df.drop(['cost'], axis = 1)\n",
        "y = df['cost']\n",
        "\n",
        "X_train, X_test, y_train, y_test = train_test_split(X, y,\n",
        "                                                   test_size = 0.2,\n",
        "                                                   random_state = 99)"
      ],
      "execution_count": null,
      "outputs": []
    },
    {
      "cell_type": "markdown",
      "metadata": {
        "id": "JfvzlY_U2VxD"
      },
      "source": [
        "## Standardization"
      ]
    },
    {
      "cell_type": "code",
      "metadata": {
        "id": "rSNbD18H2Ui6"
      },
      "source": [
        "mean = X_train.mean(axis = 0)\n",
        "std = X_train.std(axis = 0)\n",
        "\n",
        "X_train = X_train - mean\n",
        "X_train = X_train / std\n",
        "\n",
        "X_test = X_test - mean\n",
        "X_test = X_test / std"
      ],
      "execution_count": null,
      "outputs": []
    },
    {
      "cell_type": "markdown",
      "metadata": {
        "id": "kcntbGyL3C0Z"
      },
      "source": [
        "# Train & Validation Split"
      ]
    },
    {
      "cell_type": "code",
      "metadata": {
        "colab": {
          "base_uri": "https://localhost:8080/"
        },
        "id": "hGjTt5XV3CWc",
        "outputId": "95afc3bf-5c3b-4770-8ebd-d637fb2ba242"
      },
      "source": [
        "X_train, X_valid, y_train, y_valid = train_test_split(X_train, y_train, \n",
        "                                                      test_size = 0.2, \n",
        "                                                      random_state = 99) \n",
        "\n",
        "X_train.shape, X_valid.shape, y_train.shape, y_valid.shape"
      ],
      "execution_count": null,
      "outputs": [
        {
          "output_type": "execute_result",
          "data": {
            "text/plain": [
              "((73050, 12), (18263, 12), (73050,), (18263,))"
            ]
          },
          "metadata": {},
          "execution_count": 9
        }
      ]
    },
    {
      "cell_type": "markdown",
      "metadata": {
        "id": "QaqmuVtm3Vur"
      },
      "source": [
        "## DNN\n",
        "### 1) Model Define"
      ]
    },
    {
      "cell_type": "code",
      "metadata": {
        "id": "c-Yiumo12qEy"
      },
      "source": [
        "from tensorflow.keras import models, layers\n",
        "\n",
        "seoul = models.Sequential(name = 'Regression')\n",
        "seoul.add(layers.Dense(36, activation = 'relu', input_shape = (12,)))\n",
        "seoul.add(layers.Dense(60))\n",
        "seoul.add(layers.BatchNormalization())\n",
        "seoul.add(layers.Activation('relu'))\n",
        "seoul.add(layers.Dropout(0.2))\n",
        "seoul.add(layers.Dense(60))\n",
        "seoul.add(layers.Activation('relu'))\n",
        "seoul.add(layers.Dropout(0.2))\n",
        "seoul.add(layers.Dense(36, activation = 'relu'))\n",
        "seoul.add(layers.Dense(1))"
      ],
      "execution_count": null,
      "outputs": []
    },
    {
      "cell_type": "code",
      "metadata": {
        "colab": {
          "base_uri": "https://localhost:8080/"
        },
        "id": "vJxLnfGQ7Ha1",
        "outputId": "f7ce2b88-0ea6-45b6-e27e-8d18667f8480"
      },
      "source": [
        "seoul.summary()"
      ],
      "execution_count": null,
      "outputs": [
        {
          "output_type": "stream",
          "text": [
            "Model: \"Regression\"\n",
            "_________________________________________________________________\n",
            "Layer (type)                 Output Shape              Param #   \n",
            "=================================================================\n",
            "dense_11 (Dense)             (None, 36)                468       \n",
            "_________________________________________________________________\n",
            "dense_12 (Dense)             (None, 60)                2220      \n",
            "_________________________________________________________________\n",
            "batch_normalization_5 (Batch (None, 60)                240       \n",
            "_________________________________________________________________\n",
            "activation_5 (Activation)    (None, 60)                0         \n",
            "_________________________________________________________________\n",
            "dropout_5 (Dropout)          (None, 60)                0         \n",
            "_________________________________________________________________\n",
            "dense_13 (Dense)             (None, 60)                3660      \n",
            "_________________________________________________________________\n",
            "activation_6 (Activation)    (None, 60)                0         \n",
            "_________________________________________________________________\n",
            "dropout_6 (Dropout)          (None, 60)                0         \n",
            "_________________________________________________________________\n",
            "dense_14 (Dense)             (None, 36)                2196      \n",
            "_________________________________________________________________\n",
            "dense_15 (Dense)             (None, 1)                 37        \n",
            "=================================================================\n",
            "Total params: 8,821\n",
            "Trainable params: 8,701\n",
            "Non-trainable params: 120\n",
            "_________________________________________________________________\n"
          ],
          "name": "stdout"
        }
      ]
    },
    {
      "cell_type": "markdown",
      "metadata": {
        "id": "gQXLF6vI3t_1"
      },
      "source": [
        "### 2) Model Compile"
      ]
    },
    {
      "cell_type": "code",
      "metadata": {
        "id": "3g2nbtTV3rC7"
      },
      "source": [
        "seoul.compile(loss = 'mse',\n",
        "               optimizer = 'rmsprop',\n",
        "               metrics = ['mae'])"
      ],
      "execution_count": null,
      "outputs": []
    },
    {
      "cell_type": "markdown",
      "metadata": {
        "id": "9UaXHd6534VL"
      },
      "source": [
        "### 3) Model Fit"
      ]
    },
    {
      "cell_type": "code",
      "metadata": {
        "id": "WpLzpLM_4ZVV"
      },
      "source": [
        "from tensorflow.keras.callbacks import EarlyStopping\n",
        "\n",
        "es = EarlyStopping(monitor = 'val_mae', \n",
        "                   mode = 'min', \n",
        "                   patience = 50, \n",
        "                   verbose = 1)"
      ],
      "execution_count": null,
      "outputs": []
    },
    {
      "cell_type": "code",
      "metadata": {
        "id": "yQe9ZILa4aqR"
      },
      "source": [
        "from tensorflow.keras.callbacks import ModelCheckpoint\n",
        "\n",
        "mc = ModelCheckpoint('best_seoul.h5', \n",
        "                     monitor = 'val_mae', \n",
        "                     mode = 'min', \n",
        "                     save_best_only = True,\n",
        "                     verbose = 1)"
      ],
      "execution_count": null,
      "outputs": []
    },
    {
      "cell_type": "code",
      "metadata": {
        "colab": {
          "base_uri": "https://localhost:8080/"
        },
        "id": "hPCIjlJm36o_",
        "outputId": "6e5393e2-b565-4b1f-bf3e-2d0c21aabfed"
      },
      "source": [
        "Hist_seoul = seoul.fit(X_train, y_train,\n",
        "                         epochs = 500,\n",
        "                         batch_size = 1,\n",
        "                         callbacks = [es, mc],\n",
        "                         validation_data = (X_valid, y_valid))"
      ],
      "execution_count": null,
      "outputs": [
        {
          "output_type": "stream",
          "text": [
            "Epoch 1/500\n",
            "73050/73050 [==============================] - 203s 3ms/step - loss: 11621308416.0000 - mae: 88718.9219 - val_loss: 11672736768.0000 - val_mae: 88480.3828\n",
            "\n",
            "Epoch 00001: val_mae improved from inf to 88480.38281, saving model to best_seoul.h5\n",
            "Epoch 2/500\n",
            "73050/73050 [==============================] - 205s 3ms/step - loss: 11610346496.0000 - mae: 88659.0938 - val_loss: 11662225408.0000 - val_mae: 88420.2891\n",
            "\n",
            "Epoch 00002: val_mae improved from 88480.38281 to 88420.28906, saving model to best_seoul.h5\n",
            "Epoch 3/500\n",
            "73050/73050 [==============================] - 202s 3ms/step - loss: 11600159744.0000 - mae: 88598.8281 - val_loss: 11651461120.0000 - val_mae: 88359.4844\n",
            "\n",
            "Epoch 00003: val_mae improved from 88420.28906 to 88359.48438, saving model to best_seoul.h5\n",
            "Epoch 4/500\n",
            "73050/73050 [==============================] - 201s 3ms/step - loss: 11589272576.0000 - mae: 88537.5000 - val_loss: 11640719360.0000 - val_mae: 88298.7734\n",
            "\n",
            "Epoch 00004: val_mae improved from 88359.48438 to 88298.77344, saving model to best_seoul.h5\n",
            "Epoch 5/500\n",
            "73050/73050 [==============================] - 202s 3ms/step - loss: 11577873408.0000 - mae: 88476.1797 - val_loss: 11629979648.0000 - val_mae: 88238.1484\n",
            "\n",
            "Epoch 00005: val_mae improved from 88298.77344 to 88238.14844, saving model to best_seoul.h5\n",
            "Epoch 6/500\n",
            "73050/73050 [==============================] - 202s 3ms/step - loss: 11567308800.0000 - mae: 88415.9531 - val_loss: 11619362816.0000 - val_mae: 88178.0312\n",
            "\n",
            "Epoch 00006: val_mae improved from 88238.14844 to 88178.03125, saving model to best_seoul.h5\n",
            "Epoch 7/500\n",
            "73050/73050 [==============================] - 204s 3ms/step - loss: 11556849664.0000 - mae: 88355.7969 - val_loss: 11608572928.0000 - val_mae: 88117.0703\n",
            "\n",
            "Epoch 00007: val_mae improved from 88178.03125 to 88117.07031, saving model to best_seoul.h5\n",
            "Epoch 8/500\n",
            "73050/73050 [==============================] - 202s 3ms/step - loss: 11546417152.0000 - mae: 88295.8594 - val_loss: 11597954048.0000 - val_mae: 88057.1562\n",
            "\n",
            "Epoch 00008: val_mae improved from 88117.07031 to 88057.15625, saving model to best_seoul.h5\n",
            "Epoch 9/500\n",
            "73050/73050 [==============================] - 204s 3ms/step - loss: 11535438848.0000 - mae: 88234.5859 - val_loss: 11587414016.0000 - val_mae: 87996.4141\n",
            "\n",
            "Epoch 00009: val_mae improved from 88057.15625 to 87996.41406, saving model to best_seoul.h5\n",
            "Epoch 10/500\n",
            "73050/73050 [==============================] - 204s 3ms/step - loss: 11524990976.0000 - mae: 88174.6406 - val_loss: 11576721408.0000 - val_mae: 87935.5312\n",
            "\n",
            "Epoch 00010: val_mae improved from 87996.41406 to 87935.53125, saving model to best_seoul.h5\n",
            "Epoch 11/500\n",
            "73050/73050 [==============================] - 205s 3ms/step - loss: 11514065920.0000 - mae: 88114.0312 - val_loss: 11566017536.0000 - val_mae: 87875.3594\n",
            "\n",
            "Epoch 00011: val_mae improved from 87935.53125 to 87875.35938, saving model to best_seoul.h5\n",
            "Epoch 12/500\n",
            "73050/73050 [==============================] - 202s 3ms/step - loss: 11503481856.0000 - mae: 88053.7812 - val_loss: 11555411968.0000 - val_mae: 87814.5391\n",
            "\n",
            "Epoch 00012: val_mae improved from 87875.35938 to 87814.53906, saving model to best_seoul.h5\n",
            "Epoch 13/500\n",
            "73050/73050 [==============================] - 202s 3ms/step - loss: 11493003264.0000 - mae: 87992.2422 - val_loss: 11544765440.0000 - val_mae: 87753.8828\n",
            "\n",
            "Epoch 00013: val_mae improved from 87814.53906 to 87753.88281, saving model to best_seoul.h5\n",
            "Epoch 14/500\n",
            "73050/73050 [==============================] - 205s 3ms/step - loss: 11482122240.0000 - mae: 87932.3828 - val_loss: 11534272512.0000 - val_mae: 87693.7969\n",
            "\n",
            "Epoch 00014: val_mae improved from 87753.88281 to 87693.79688, saving model to best_seoul.h5\n",
            "Epoch 15/500\n",
            "73050/73050 [==============================] - 202s 3ms/step - loss: 11470781440.0000 - mae: 87871.1094 - val_loss: 11523639296.0000 - val_mae: 87633.4688\n",
            "\n",
            "Epoch 00015: val_mae improved from 87693.79688 to 87633.46875, saving model to best_seoul.h5\n",
            "Epoch 16/500\n",
            "73050/73050 [==============================] - 202s 3ms/step - loss: 11460810752.0000 - mae: 87812.2578 - val_loss: 11512976384.0000 - val_mae: 87572.6719\n",
            "\n",
            "Epoch 00016: val_mae improved from 87633.46875 to 87572.67188, saving model to best_seoul.h5\n",
            "Epoch 17/500\n",
            "73050/73050 [==============================] - 205s 3ms/step - loss: 11450535936.0000 - mae: 87750.1797 - val_loss: 11502454784.0000 - val_mae: 87512.6641\n",
            "\n",
            "Epoch 00017: val_mae improved from 87572.67188 to 87512.66406, saving model to best_seoul.h5\n",
            "Epoch 18/500\n",
            "73050/73050 [==============================] - 205s 3ms/step - loss: 11440178176.0000 - mae: 87690.1562 - val_loss: 11491867648.0000 - val_mae: 87451.6094\n",
            "\n",
            "Epoch 00018: val_mae improved from 87512.66406 to 87451.60938, saving model to best_seoul.h5\n",
            "Epoch 19/500\n",
            "73050/73050 [==============================] - 202s 3ms/step - loss: 11429368832.0000 - mae: 87629.6094 - val_loss: 11481180160.0000 - val_mae: 87391.5234\n",
            "\n",
            "Epoch 00019: val_mae improved from 87451.60938 to 87391.52344, saving model to best_seoul.h5\n",
            "Epoch 20/500\n",
            "73050/73050 [==============================] - 203s 3ms/step - loss: 11418659840.0000 - mae: 87569.3047 - val_loss: 11470563328.0000 - val_mae: 87330.0703\n",
            "\n",
            "Epoch 00020: val_mae improved from 87391.52344 to 87330.07031, saving model to best_seoul.h5\n",
            "Epoch 21/500\n",
            "73050/73050 [==============================] - 202s 3ms/step - loss: 11407619072.0000 - mae: 87508.7734 - val_loss: 11460133888.0000 - val_mae: 87269.8750\n",
            "\n",
            "Epoch 00021: val_mae improved from 87330.07031 to 87269.87500, saving model to best_seoul.h5\n",
            "Epoch 22/500\n",
            "73050/73050 [==============================] - 205s 3ms/step - loss: 11397181440.0000 - mae: 87448.6094 - val_loss: 11449532416.0000 - val_mae: 87210.0469\n",
            "\n",
            "Epoch 00022: val_mae improved from 87269.87500 to 87210.04688, saving model to best_seoul.h5\n",
            "Epoch 23/500\n",
            "73050/73050 [==============================] - 205s 3ms/step - loss: 11386363904.0000 - mae: 87388.3594 - val_loss: 11439110144.0000 - val_mae: 87149.4141\n",
            "\n",
            "Epoch 00023: val_mae improved from 87210.04688 to 87149.41406, saving model to best_seoul.h5\n",
            "Epoch 24/500\n",
            "73050/73050 [==============================] - 205s 3ms/step - loss: 11376235520.0000 - mae: 87328.0859 - val_loss: 11428477952.0000 - val_mae: 87089.7891\n",
            "\n",
            "Epoch 00024: val_mae improved from 87149.41406 to 87089.78906, saving model to best_seoul.h5\n",
            "Epoch 25/500\n",
            "73050/73050 [==============================] - 206s 3ms/step - loss: 11366061056.0000 - mae: 87266.7891 - val_loss: 11418113024.0000 - val_mae: 87028.9688\n",
            "\n",
            "Epoch 00025: val_mae improved from 87089.78906 to 87028.96875, saving model to best_seoul.h5\n",
            "Epoch 26/500\n",
            "73050/73050 [==============================] - 206s 3ms/step - loss: 11355574272.0000 - mae: 87207.0312 - val_loss: 11407449088.0000 - val_mae: 86968.3594\n",
            "\n",
            "Epoch 00026: val_mae improved from 87028.96875 to 86968.35938, saving model to best_seoul.h5\n",
            "Epoch 27/500\n",
            "73050/73050 [==============================] - 206s 3ms/step - loss: 11345098752.0000 - mae: 87147.2969 - val_loss: 11396971520.0000 - val_mae: 86908.3438\n",
            "\n",
            "Epoch 00027: val_mae improved from 86968.35938 to 86908.34375, saving model to best_seoul.h5\n",
            "Epoch 28/500\n",
            "73050/73050 [==============================] - 206s 3ms/step - loss: 11334759424.0000 - mae: 87087.3906 - val_loss: 11386498048.0000 - val_mae: 86848.2891\n",
            "\n",
            "Epoch 00028: val_mae improved from 86908.34375 to 86848.28906, saving model to best_seoul.h5\n",
            "Epoch 29/500\n",
            "73050/73050 [==============================] - 206s 3ms/step - loss: 11323960320.0000 - mae: 87027.3906 - val_loss: 11376064512.0000 - val_mae: 86787.8359\n",
            "\n",
            "Epoch 00029: val_mae improved from 86848.28906 to 86787.83594, saving model to best_seoul.h5\n",
            "Epoch 30/500\n",
            "73050/73050 [==============================] - 206s 3ms/step - loss: 11312972800.0000 - mae: 86965.1719 - val_loss: 11365535744.0000 - val_mae: 86727.3594\n",
            "\n",
            "Epoch 00030: val_mae improved from 86787.83594 to 86727.35938, saving model to best_seoul.h5\n",
            "Epoch 31/500\n",
            "73050/73050 [==============================] - 207s 3ms/step - loss: 11302218752.0000 - mae: 86905.3828 - val_loss: 11355374592.0000 - val_mae: 86667.2188\n",
            "\n",
            "Epoch 00031: val_mae improved from 86727.35938 to 86667.21875, saving model to best_seoul.h5\n",
            "Epoch 32/500\n",
            "73050/73050 [==============================] - 205s 3ms/step - loss: 11292195840.0000 - mae: 86844.0312 - val_loss: 11344684032.0000 - val_mae: 86607.1016\n",
            "\n",
            "Epoch 00032: val_mae improved from 86667.21875 to 86607.10156, saving model to best_seoul.h5\n",
            "Epoch 33/500\n",
            "73050/73050 [==============================] - 204s 3ms/step - loss: 11281703936.0000 - mae: 86785.3281 - val_loss: 11334217728.0000 - val_mae: 86545.8828\n",
            "\n",
            "Epoch 00033: val_mae improved from 86607.10156 to 86545.88281, saving model to best_seoul.h5\n",
            "Epoch 34/500\n",
            "73050/73050 [==============================] - 204s 3ms/step - loss: 11271219200.0000 - mae: 86724.0547 - val_loss: 11323793408.0000 - val_mae: 86486.7109\n",
            "\n",
            "Epoch 00034: val_mae improved from 86545.88281 to 86486.71094, saving model to best_seoul.h5\n",
            "Epoch 35/500\n",
            "73050/73050 [==============================] - 204s 3ms/step - loss: 11260664832.0000 - mae: 86664.2031 - val_loss: 11313510400.0000 - val_mae: 86425.7734\n",
            "\n",
            "Epoch 00035: val_mae improved from 86486.71094 to 86425.77344, saving model to best_seoul.h5\n",
            "Epoch 36/500\n",
            "73050/73050 [==============================] - 206s 3ms/step - loss: 11250867200.0000 - mae: 86604.1953 - val_loss: 11303166976.0000 - val_mae: 86366.4453\n",
            "\n",
            "Epoch 00036: val_mae improved from 86425.77344 to 86366.44531, saving model to best_seoul.h5\n",
            "Epoch 37/500\n",
            "73050/73050 [==============================] - 207s 3ms/step - loss: 11240163328.0000 - mae: 86544.0859 - val_loss: 11292764160.0000 - val_mae: 86305.6953\n",
            "\n",
            "Epoch 00037: val_mae improved from 86366.44531 to 86305.69531, saving model to best_seoul.h5\n",
            "Epoch 38/500\n",
            "73050/73050 [==============================] - 204s 3ms/step - loss: 11229216768.0000 - mae: 86483.9453 - val_loss: 11282427904.0000 - val_mae: 86245.9531\n",
            "\n",
            "Epoch 00038: val_mae improved from 86305.69531 to 86245.95312, saving model to best_seoul.h5\n",
            "Epoch 39/500\n",
            "73050/73050 [==============================] - 207s 3ms/step - loss: 11219158016.0000 - mae: 86423.8672 - val_loss: 11271972864.0000 - val_mae: 86185.6016\n",
            "\n",
            "Epoch 00039: val_mae improved from 86245.95312 to 86185.60156, saving model to best_seoul.h5\n",
            "Epoch 40/500\n",
            "73050/73050 [==============================] - 205s 3ms/step - loss: 11208731648.0000 - mae: 86363.7656 - val_loss: 11261651968.0000 - val_mae: 86125.7578\n",
            "\n",
            "Epoch 00040: val_mae improved from 86185.60156 to 86125.75781, saving model to best_seoul.h5\n",
            "Epoch 41/500\n",
            "73050/73050 [==============================] - 207s 3ms/step - loss: 11198622720.0000 - mae: 86303.4375 - val_loss: 11251232768.0000 - val_mae: 86065.5781\n",
            "\n",
            "Epoch 00041: val_mae improved from 86125.75781 to 86065.57812, saving model to best_seoul.h5\n",
            "Epoch 42/500\n",
            "73050/73050 [==============================] - 207s 3ms/step - loss: 11187965952.0000 - mae: 86244.4375 - val_loss: 11241025536.0000 - val_mae: 86005.7031\n",
            "\n",
            "Epoch 00042: val_mae improved from 86065.57812 to 86005.70312, saving model to best_seoul.h5\n",
            "Epoch 43/500\n",
            "73050/73050 [==============================] - 208s 3ms/step - loss: 11178015744.0000 - mae: 86183.3359 - val_loss: 11230666752.0000 - val_mae: 85945.3438\n",
            "\n",
            "Epoch 00043: val_mae improved from 86005.70312 to 85945.34375, saving model to best_seoul.h5\n",
            "Epoch 44/500\n",
            "73050/73050 [==============================] - 207s 3ms/step - loss: 11167455232.0000 - mae: 86123.4922 - val_loss: 11220306944.0000 - val_mae: 85885.6250\n",
            "\n",
            "Epoch 00044: val_mae improved from 85945.34375 to 85885.62500, saving model to best_seoul.h5\n",
            "Epoch 45/500\n",
            "73050/73050 [==============================] - 207s 3ms/step - loss: 11157359616.0000 - mae: 86064.0703 - val_loss: 11210072064.0000 - val_mae: 85825.8594\n",
            "\n",
            "Epoch 00045: val_mae improved from 85885.62500 to 85825.85938, saving model to best_seoul.h5\n",
            "Epoch 46/500\n",
            "73050/73050 [==============================] - 204s 3ms/step - loss: 11147016192.0000 - mae: 86003.9375 - val_loss: 11199670272.0000 - val_mae: 85765.4688\n",
            "\n",
            "Epoch 00046: val_mae improved from 85825.85938 to 85765.46875, saving model to best_seoul.h5\n",
            "Epoch 47/500\n",
            "73050/73050 [==============================] - 207s 3ms/step - loss: 11136416768.0000 - mae: 85943.7109 - val_loss: 11189455872.0000 - val_mae: 85705.6484\n",
            "\n",
            "Epoch 00047: val_mae improved from 85765.46875 to 85705.64844, saving model to best_seoul.h5\n",
            "Epoch 48/500\n",
            "73050/73050 [==============================] - 208s 3ms/step - loss: 11125359616.0000 - mae: 85883.8438 - val_loss: 11179136000.0000 - val_mae: 85645.0547\n",
            "\n",
            "Epoch 00048: val_mae improved from 85705.64844 to 85645.05469, saving model to best_seoul.h5\n",
            "Epoch 49/500\n",
            "73050/73050 [==============================] - 209s 3ms/step - loss: 11115787264.0000 - mae: 85823.3203 - val_loss: 11168808960.0000 - val_mae: 85585.7656\n",
            "\n",
            "Epoch 00049: val_mae improved from 85645.05469 to 85585.76562, saving model to best_seoul.h5\n",
            "Epoch 50/500\n",
            "73050/73050 [==============================] - 206s 3ms/step - loss: 11105593344.0000 - mae: 85763.4375 - val_loss: 11158615040.0000 - val_mae: 85525.4766\n",
            "\n",
            "Epoch 00050: val_mae improved from 85585.76562 to 85525.47656, saving model to best_seoul.h5\n",
            "Epoch 51/500\n",
            "73050/73050 [==============================] - 209s 3ms/step - loss: 11095388160.0000 - mae: 85703.6250 - val_loss: 11148407808.0000 - val_mae: 85465.6484\n",
            "\n",
            "Epoch 00051: val_mae improved from 85525.47656 to 85465.64844, saving model to best_seoul.h5\n",
            "Epoch 52/500\n",
            "73050/73050 [==============================] - 207s 3ms/step - loss: 11084991488.0000 - mae: 85643.9531 - val_loss: 11138071552.0000 - val_mae: 85405.5625\n",
            "\n",
            "Epoch 00052: val_mae improved from 85465.64844 to 85405.56250, saving model to best_seoul.h5\n",
            "Epoch 53/500\n",
            "73050/73050 [==============================] - 211s 3ms/step - loss: 11075200000.0000 - mae: 85584.1797 - val_loss: 11127830528.0000 - val_mae: 85345.5312\n",
            "\n",
            "Epoch 00053: val_mae improved from 85405.56250 to 85345.53125, saving model to best_seoul.h5\n",
            "Epoch 54/500\n",
            "73050/73050 [==============================] - 207s 3ms/step - loss: 11064411136.0000 - mae: 85524.0156 - val_loss: 11117733888.0000 - val_mae: 85286.0469\n",
            "\n",
            "Epoch 00054: val_mae improved from 85345.53125 to 85286.04688, saving model to best_seoul.h5\n",
            "Epoch 55/500\n",
            "73050/73050 [==============================] - 211s 3ms/step - loss: 11053980672.0000 - mae: 85464.7578 - val_loss: 11107435520.0000 - val_mae: 85225.7656\n",
            "\n",
            "Epoch 00055: val_mae improved from 85286.04688 to 85225.76562, saving model to best_seoul.h5\n",
            "Epoch 56/500\n",
            "73050/73050 [==============================] - 211s 3ms/step - loss: 11043581952.0000 - mae: 85404.1562 - val_loss: 11097405440.0000 - val_mae: 85166.4688\n",
            "\n",
            "Epoch 00056: val_mae improved from 85225.76562 to 85166.46875, saving model to best_seoul.h5\n",
            "Epoch 57/500\n",
            " 9200/73050 [==>...........................] - ETA: 2:45 - loss: 10851579904.0000 - mae: 85122.5625"
          ],
          "name": "stdout"
        }
      ]
    },
    {
      "cell_type": "markdown",
      "metadata": {
        "id": "2tIsbvKP7i-y"
      },
      "source": [
        "### 4) Model Evaluate"
      ]
    },
    {
      "cell_type": "code",
      "metadata": {
        "id": "-47V0Bpy4FVj"
      },
      "source": [
        "test_mse_score, test_mae_score = boston.evaluate(X_test, y_test)\n",
        "\n",
        "print('MAE is :',test_mae_score)"
      ],
      "execution_count": null,
      "outputs": []
    },
    {
      "cell_type": "markdown",
      "metadata": {
        "id": "R0raynQa7rwc"
      },
      "source": [
        "### 5) Visualization"
      ]
    },
    {
      "cell_type": "code",
      "metadata": {
        "id": "G__LsxU44GCm"
      },
      "source": [
        "epochs = range(1, len(Hist_seoul.history['val_mae']) + 1)\n",
        "\n",
        "plt.figure(figsize = (9, 6))\n",
        "plt.plot(epochs, Hist_seoul.history['val_mae'])\n",
        "plt.title('Validation MAE')\n",
        "plt.xlabel('Epochs')\n",
        "plt.ylabel('Mean Absolute Error')\n",
        "plt.grid()\n",
        "plt.show()"
      ],
      "execution_count": null,
      "outputs": []
    },
    {
      "cell_type": "code",
      "metadata": {
        "id": "48ZnEbWb4LCd"
      },
      "source": [
        "def smooth_curve(points, factor=0.9):\n",
        "  smoothed_points = []\n",
        "  for point in points:\n",
        "    if smoothed_points:\n",
        "      previous = smoothed_points[-1]\n",
        "      smoothed_points.append(previous * factor + point * (1 - factor))\n",
        "    else:\n",
        "      smoothed_points.append(point)\n",
        "  return smoothed_points\n",
        "\n",
        "mae_history = Hist_seoul.history['val_mae']\n",
        "\n",
        "mae_history = smooth_curve(mae_history[5:])\n",
        "\n",
        "plt.figure(figsize = (9, 6))\n",
        "plt.plot(range(1, len(mae_history) + 1), mae_history)\n",
        "plt.title('Validation MAE')\n",
        "plt.xlabel('Epochs')\n",
        "plt.ylabel('Mean Absolute Error')\n",
        "plt.grid()\n",
        "plt.show()"
      ],
      "execution_count": null,
      "outputs": []
    }
  ]
}