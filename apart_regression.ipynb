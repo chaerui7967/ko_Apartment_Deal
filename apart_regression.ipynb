{
 "cells": [
  {
   "cell_type": "code",
   "execution_count": 1,
   "id": "85fbfb95",
   "metadata": {},
   "outputs": [],
   "source": [
    "import numpy as np\n",
    "import pandas as pd\n",
    "import matplotlib.pyplot as plt\n",
    "import seaborn as sns\n",
    "\n",
    "# 선형 회귀\n",
    "from sklearn.linear_model import LinearRegression\n",
    "from sklearn.model_selection import train_test_split\n",
    "from sklearn.metrics import mean_squared_error"
   ]
  },
  {
   "cell_type": "code",
   "execution_count": 2,
   "id": "1cd26679",
   "metadata": {},
   "outputs": [
    {
     "name": "stderr",
     "output_type": "stream",
     "text": [
      "/home/ubuntu/anaconda3/envs/multi/lib/python3.7/site-packages/IPython/core/interactiveshell.py:3441: DtypeWarning: Columns (6) have mixed types.Specify dtype option on import or set low_memory=False.\n",
      "  exec(code_obj, self.user_global_ns, self.user_ns)\n"
     ]
    }
   ],
   "source": [
    "df = pd.read_csv('./Apart_Deal.csv')"
   ]
  },
  {
   "cell_type": "code",
   "execution_count": 3,
   "id": "5c8a28b4",
   "metadata": {},
   "outputs": [
    {
     "name": "stdout",
     "output_type": "stream",
     "text": [
      "<class 'pandas.core.frame.DataFrame'>\n",
      "RangeIndex: 4315703 entries, 0 to 4315702\n",
      "Data columns (total 9 columns):\n",
      " #   Column  Dtype  \n",
      "---  ------  -----  \n",
      " 0   지역코드    int64  \n",
      " 1   법정동     object \n",
      " 2   거래일     object \n",
      " 3   아파트     object \n",
      " 4   지번      object \n",
      " 5   전용면적    float64\n",
      " 6   층       object \n",
      " 7   건축년도    int64  \n",
      " 8   거래금액    int64  \n",
      "dtypes: float64(1), int64(3), object(5)\n",
      "memory usage: 296.3+ MB\n"
     ]
    }
   ],
   "source": [
    "df.info()"
   ]
  },
  {
   "cell_type": "code",
   "execution_count": 4,
   "id": "daf8ff0c",
   "metadata": {},
   "outputs": [],
   "source": [
    "df.columns = ['code', 'dong', 'date', 'apart_name','region_num', 'square', 'floor', 'blit_year', 'cost']"
   ]
  },
  {
   "cell_type": "code",
   "execution_count": 5,
   "id": "25de3493",
   "metadata": {},
   "outputs": [],
   "source": [
    "df.drop(['dong','apart_name','region_num'],axis=1, inplace=True)"
   ]
  },
  {
   "cell_type": "code",
   "execution_count": 6,
   "id": "3ad94db1",
   "metadata": {},
   "outputs": [
    {
     "data": {
      "text/html": [
       "<div>\n",
       "<style scoped>\n",
       "    .dataframe tbody tr th:only-of-type {\n",
       "        vertical-align: middle;\n",
       "    }\n",
       "\n",
       "    .dataframe tbody tr th {\n",
       "        vertical-align: top;\n",
       "    }\n",
       "\n",
       "    .dataframe thead th {\n",
       "        text-align: right;\n",
       "    }\n",
       "</style>\n",
       "<table border=\"1\" class=\"dataframe\">\n",
       "  <thead>\n",
       "    <tr style=\"text-align: right;\">\n",
       "      <th></th>\n",
       "      <th>code</th>\n",
       "      <th>date</th>\n",
       "      <th>square</th>\n",
       "      <th>floor</th>\n",
       "      <th>blit_year</th>\n",
       "      <th>cost</th>\n",
       "    </tr>\n",
       "  </thead>\n",
       "  <tbody>\n",
       "    <tr>\n",
       "      <th>0</th>\n",
       "      <td>31110</td>\n",
       "      <td>5/30/2020 0:00</td>\n",
       "      <td>135.58</td>\n",
       "      <td>8</td>\n",
       "      <td>1991</td>\n",
       "      <td>26700</td>\n",
       "    </tr>\n",
       "  </tbody>\n",
       "</table>\n",
       "</div>"
      ],
      "text/plain": [
       "    code            date  square floor  blit_year   cost\n",
       "0  31110  5/30/2020 0:00  135.58     8       1991  26700"
      ]
     },
     "execution_count": 6,
     "metadata": {},
     "output_type": "execute_result"
    }
   ],
   "source": [
    "df.head(1)"
   ]
  },
  {
   "cell_type": "code",
   "execution_count": 12,
   "id": "b6cb9b5d",
   "metadata": {},
   "outputs": [],
   "source": [
    "# 전처리\n",
    "df['date'] = pd.to_datetime(df['date'])"
   ]
  },
  {
   "cell_type": "code",
   "execution_count": 14,
   "id": "d5e473a8",
   "metadata": {},
   "outputs": [
    {
     "data": {
      "text/plain": [
       "array([8, 2, 11, 7, 5, 10, 9, 13, 22, 12, 4, 20, 15, 3, 6, 1, 14, -1, 39,\n",
       "       19, 17, 23, 21, 18, 35, 34, 24, 29, 27, 16, 25, 31, 32, 28, 30, 50,\n",
       "       26, 33, 37, 36, 51, 48, 43, 38, 46, 45, 49, 42, 40, 44, 41, 61, 52,\n",
       "       60, 55, 54, 64, 56, 47, 58, 53, 57, 59, 62, 66, 63, -2, -3, 65, 68,\n",
       "       67, 69, 75, 74, 71, 73, 70, 72, 77, 76, 79, 80, 83, 81, '7', '2',\n",
       "       '10', '21', '6', '15', '4', '3', '18', '8', '9', '1', '17', '22',\n",
       "       '23', '5', '13', '20', '11', '12', '16', '19', '14', '25', '24',\n",
       "       '27', '28', '26', '-1', '32', '31', '34', '29', '37', '35', '30',\n",
       "       '33', '36', '39', '44', '49', '41', '45', '42', '47', '50', '46',\n",
       "       '48', '52', '38', '43', '40', ' ', -4, 78], dtype=object)"
      ]
     },
     "execution_count": 14,
     "metadata": {},
     "output_type": "execute_result"
    }
   ],
   "source": [
    "df['floor'].unique()"
   ]
  },
  {
   "cell_type": "code",
   "execution_count": 21,
   "id": "4ea2115e",
   "metadata": {},
   "outputs": [],
   "source": [
    "# 층수에서 공백 행 제거\n",
    "space = df[df['floor']==' '].index\n",
    "df.drop(space, inplace=True)"
   ]
  },
  {
   "cell_type": "code",
   "execution_count": 23,
   "id": "cd653af2",
   "metadata": {},
   "outputs": [
    {
     "data": {
      "text/plain": [
       "0           8\n",
       "1           2\n",
       "2          11\n",
       "3           8\n",
       "4           7\n",
       "           ..\n",
       "4315698     7\n",
       "4315699     4\n",
       "4315700     3\n",
       "4315701     3\n",
       "4315702     5\n",
       "Name: floor, Length: 4315702, dtype: int64"
      ]
     },
     "execution_count": 23,
     "metadata": {},
     "output_type": "execute_result"
    }
   ],
   "source": [
    "df['floor'].astype('int')"
   ]
  },
  {
   "cell_type": "code",
   "execution_count": 28,
   "id": "e01eee9e",
   "metadata": {},
   "outputs": [],
   "source": [
    "df['floor'] = df['floor'].astype('int')"
   ]
  },
  {
   "cell_type": "code",
   "execution_count": 29,
   "id": "34f592ae",
   "metadata": {},
   "outputs": [
    {
     "name": "stdout",
     "output_type": "stream",
     "text": [
      "<class 'pandas.core.frame.DataFrame'>\n",
      "Int64Index: 4315702 entries, 0 to 4315702\n",
      "Data columns (total 6 columns):\n",
      " #   Column     Dtype         \n",
      "---  ------     -----         \n",
      " 0   code       int64         \n",
      " 1   date       datetime64[ns]\n",
      " 2   square     float64       \n",
      " 3   floor      int64         \n",
      " 4   blit_year  int64         \n",
      " 5   cost       int64         \n",
      "dtypes: datetime64[ns](1), float64(1), int64(4)\n",
      "memory usage: 230.5 MB\n"
     ]
    }
   ],
   "source": [
    "df.info()"
   ]
  },
  {
   "cell_type": "code",
   "execution_count": 35,
   "id": "7856adef",
   "metadata": {},
   "outputs": [],
   "source": [
    "X = df.drop(['cost','date'], axis=1)\n",
    "y = df['cost']"
   ]
  },
  {
   "cell_type": "code",
   "execution_count": 36,
   "id": "ea3d5d57",
   "metadata": {},
   "outputs": [],
   "source": [
    "# 훈련/테스트 데이터 나누기\n",
    "\n",
    "X_train, X_test, y_train, y_test = train_test_split(X, y, test_size=0.3, random_state=0)"
   ]
  },
  {
   "cell_type": "code",
   "execution_count": 37,
   "id": "ebeaf8c7",
   "metadata": {},
   "outputs": [
    {
     "data": {
      "text/plain": [
       "LinearRegression()"
      ]
     },
     "execution_count": 37,
     "metadata": {},
     "output_type": "execute_result"
    }
   ],
   "source": [
    "lr = LinearRegression()\n",
    "lr.fit(X_train, y_train)"
   ]
  },
  {
   "cell_type": "code",
   "execution_count": 38,
   "id": "3dbdf6f4",
   "metadata": {},
   "outputs": [
    {
     "name": "stdout",
     "output_type": "stream",
     "text": [
      "weight : [ -0.95405739 435.43694287 331.19182146 301.65509352]\n",
      "bias : -575773.4352134247\n"
     ]
    }
   ],
   "source": [
    "# weight & bias\n",
    "print(f'weight : {lr.coef_}')\n",
    "print(f'bias : {lr.intercept_}')"
   ]
  },
  {
   "cell_type": "code",
   "execution_count": 39,
   "id": "fd04ddb2",
   "metadata": {},
   "outputs": [
    {
     "name": "stdout",
     "output_type": "stream",
     "text": [
      "R-squre = 0.438883732623649\n"
     ]
    }
   ],
   "source": [
    "# 결정 계수\n",
    "print(f'R-squre = {lr.score(X_test, y_test)}')"
   ]
  },
  {
   "cell_type": "code",
   "execution_count": 40,
   "id": "b81e1a39",
   "metadata": {},
   "outputs": [
    {
     "name": "stdout",
     "output_type": "stream",
     "text": [
      "mae = 380475767.8250941\n"
     ]
    }
   ],
   "source": [
    "# 모델 평가\n",
    "y_hat = lr.predict(X_test)\n",
    "\n",
    "print(f'mae = {mean_squared_error(y_test, y_hat)}')"
   ]
  },
  {
   "cell_type": "code",
   "execution_count": 48,
   "id": "01b5b581",
   "metadata": {},
   "outputs": [
    {
     "name": "stderr",
     "output_type": "stream",
     "text": [
      "/home/ubuntu/anaconda3/envs/multi/lib/python3.7/site-packages/seaborn/distributions.py:2557: FutureWarning: `distplot` is a deprecated function and will be removed in a future version. Please adapt your code to use either `displot` (a figure-level function with similar flexibility) or `kdeplot` (an axes-level function for kernel density plots).\n",
      "  warnings.warn(msg, FutureWarning)\n",
      "/home/ubuntu/anaconda3/envs/multi/lib/python3.7/site-packages/seaborn/distributions.py:2557: FutureWarning: `distplot` is a deprecated function and will be removed in a future version. Please adapt your code to use either `displot` (a figure-level function with similar flexibility) or `kdeplot` (an axes-level function for kernel density plots).\n",
      "  warnings.warn(msg, FutureWarning)\n"
     ]
    },
    {
     "data": {
      "image/png": "[encoded data removed]",
      "text/plain": [
       "<Figure size 900x600 with 1 Axes>"
      ]
     },
     "metadata": {},
     "output_type": "display_data"
    }
   ],
   "source": [
    "# 시각화\n",
    "y_X=lr.predict(X)\n",
    "\n",
    "plt.figure(figsize = (9,6))\n",
    "ax1=sns.distplot(y, hist = False, label='y')\n",
    "ax2=sns.distplot(y_X, hist=False, label='y_X', ax=ax1)\n",
    "plt.show()"
   ]
  },
  {
   "cell_type": "code",
   "execution_count": 44,
   "id": "7be025ff",
   "metadata": {},
   "outputs": [],
   "source": [
    "# 스케일링\n",
    "from sklearn.preprocessing import MinMaxScaler\n",
    "\n",
    "Norm = MinMaxScaler()\n",
    "X_Norm = Norm.fit_transform(X)"
   ]
  },
  {
   "cell_type": "code",
   "execution_count": 47,
   "id": "b8531710",
   "metadata": {},
   "outputs": [
    {
     "name": "stdout",
     "output_type": "stream",
     "text": [
      "weight : [-37227.31928678 180732.45750645  28813.68846692  18099.30561136]\n",
      "bias : 7880.004406968361\n",
      "R-squre = 0.4388837326236463\n",
      "mae = 380475767.8250959\n"
     ]
    },
    {
     "name": "stderr",
     "output_type": "stream",
     "text": [
      "/home/ubuntu/anaconda3/envs/multi/lib/python3.7/site-packages/seaborn/distributions.py:2557: FutureWarning: `distplot` is a deprecated function and will be removed in a future version. Please adapt your code to use either `displot` (a figure-level function with similar flexibility) or `kdeplot` (an axes-level function for kernel density plots).\n",
      "  warnings.warn(msg, FutureWarning)\n",
      "/home/ubuntu/anaconda3/envs/multi/lib/python3.7/site-packages/seaborn/distributions.py:2557: FutureWarning: `distplot` is a deprecated function and will be removed in a future version. Please adapt your code to use either `displot` (a figure-level function with similar flexibility) or `kdeplot` (an axes-level function for kernel density plots).\n",
      "  warnings.warn(msg, FutureWarning)\n"
     ]
    },
    {
     "data": {
      "image/png": "[encoded data removed]",
      "text/plain": [
       "<Figure size 900x600 with 1 Axes>"
      ]
     },
     "metadata": {},
     "output_type": "display_data"
    }
   ],
   "source": [
    "# 훈련/테스트 데이터 나누기\n",
    "\n",
    "X_train, X_test, y_train, y_test = train_test_split(X_Norm, y, test_size=0.3, random_state=0)\n",
    "\n",
    "lr_norm = LinearRegression()\n",
    "lr_norm.fit(X_train, y_train)\n",
    "\n",
    "# weight & bias\n",
    "print(f'weight : {lr_norm.coef_}')\n",
    "print(f'bias : {lr_norm.intercept_}')\n",
    "\n",
    "# 결정 계수\n",
    "print(f'R-squre = {lr_norm.score(X_test, y_test)}')\n",
    "\n",
    "# 모델 평가\n",
    "y_hat1 = lr_norm.predict(X_test)\n",
    "\n",
    "print(f'mae = {mean_squared_error(y_test, y_hat1)}')\n",
    "\n",
    "\n",
    "# 시각화\n",
    "y_X=lr_norm.predict(X_Norm)\n",
    "\n",
    "plt.figure(figsize = (9,6))\n",
    "ax1=sns.distplot(y, hist = False, label='y')\n",
    "ax2=sns.distplot(y_X, hist=False, label='y_X', ax=ax1)\n",
    "plt.show()"
   ]
  },
  {
   "cell_type": "code",
   "execution_count": 54,
   "id": "11295516",
   "metadata": {
    "scrolled": true
   },
   "outputs": [
    {
     "data": {
      "text/plain": [
       "19505.788059575956"
      ]
     },
     "execution_count": 54,
     "metadata": {},
     "output_type": "execute_result"
    }
   ],
   "source": [
    "from math import sqrt\n",
    "sqrt(380475767.8250959)"
   ]
  },
  {
   "cell_type": "code",
   "execution_count": 59,
   "id": "5f757bea",
   "metadata": {},
   "outputs": [
    {
     "data": {
      "text/plain": [
       "count    4315702.0\n",
       "mean       30209.0\n",
       "std        26057.0\n",
       "min          100.0\n",
       "25%        15000.0\n",
       "50%        24000.0\n",
       "75%        37000.0\n",
       "max       840000.0\n",
       "Name: cost, dtype: float64"
      ]
     },
     "execution_count": 59,
     "metadata": {},
     "output_type": "execute_result"
    }
   ],
   "source": [
    "np.round(y.describe())"
   ]
  },
  {
   "cell_type": "code",
   "execution_count": 62,
   "id": "72994eea",
   "metadata": {},
   "outputs": [
    {
     "name": "stdout",
     "output_type": "stream",
     "text": [
      "weight : [ -49065.32564443  240861.25925363   23421.89841592 -157849.81505026\n",
      "   54621.77218514 -240439.40849431  -13956.08440333    1485.63150531\n",
      "  127448.54768304   90034.48033501   31514.0671324    64800.88843133\n",
      "  -30650.80714582  132794.40989567]\n",
      "bias : 51914.853936188665\n",
      "R-squre = 0.5280785620996735\n",
      "mae = 319995483.78414506\n"
     ]
    }
   ],
   "source": [
    "# 다항식\n",
    "from sklearn.preprocessing import PolynomialFeatures\n",
    "\n",
    "poly = PolynomialFeatures(degree = 2, include_bias = False)\n",
    "X_train_poly = poly.fit_transform(X_train)\n",
    "\n",
    "lr_poly2 = LinearRegression()\n",
    "lr_poly2.fit(X_train_poly, y_train)\n",
    "\n",
    "# weight & bias\n",
    "print(f'weight : {lr_poly2.coef_}')\n",
    "print(f'bias : {lr_poly2.intercept_}')\n",
    "\n",
    "# 결정 계수\n",
    "X_test_poly = poly.fit_transform(X_test)\n",
    "print(f'R-squre = {lr_poly2.score(X_test_poly, y_test)}')\n",
    "\n",
    "# 모델 평가\n",
    "\n",
    "print(f'mae = {mean_squared_error(y_test, lr_poly2.predict(X_test_poly))}')"
   ]
  },
  {
   "cell_type": "code",
   "execution_count": 66,
   "id": "9c43c0f1",
   "metadata": {},
   "outputs": [
    {
     "data": {
      "text/plain": [
       "17888.417587482272"
      ]
     },
     "execution_count": 66,
     "metadata": {},
     "output_type": "execute_result"
    }
   ],
   "source": [
    "sqrt(319995483.78414506)"
   ]
  },
  {
   "cell_type": "code",
   "execution_count": 65,
   "id": "21b25625",
   "metadata": {},
   "outputs": [
    {
     "name": "stderr",
     "output_type": "stream",
     "text": [
      "/home/ubuntu/anaconda3/envs/multi/lib/python3.7/site-packages/seaborn/distributions.py:2557: FutureWarning: `distplot` is a deprecated function and will be removed in a future version. Please adapt your code to use either `displot` (a figure-level function with similar flexibility) or `kdeplot` (an axes-level function for kernel density plots).\n",
      "  warnings.warn(msg, FutureWarning)\n",
      "/home/ubuntu/anaconda3/envs/multi/lib/python3.7/site-packages/seaborn/distributions.py:2557: FutureWarning: `distplot` is a deprecated function and will be removed in a future version. Please adapt your code to use either `displot` (a figure-level function with similar flexibility) or `kdeplot` (an axes-level function for kernel density plots).\n",
      "  warnings.warn(msg, FutureWarning)\n"
     ]
    },
    {
     "data": {
      "image/png": "[encoded data removed]",
      "text/plain": [
       "<Figure size 900x600 with 1 Axes>"
      ]
     },
     "metadata": {},
     "output_type": "display_data"
    }
   ],
   "source": [
    "y_X=lr_poly2.predict(X_test_poly)\n",
    "\n",
    "plt.figure(figsize = (9,6))\n",
    "ax1=sns.distplot(y, hist = False, label='y')\n",
    "ax2=sns.distplot(y_X, hist=False, label='y_X', ax=ax1)\n",
    "plt.show()"
   ]
  },
  {
   "cell_type": "code",
   "execution_count": null,
   "id": "69edf702",
   "metadata": {},
   "outputs": [],
   "source": []
  }
 ],
 "metadata": {
  "kernelspec": {
   "display_name": "Python 3",
   "language": "python",
   "name": "python3"
  },
  "language_info": {
   "codemirror_mode": {
    "name": "ipython",
    "version": 3
   },
   "file_extension": ".py",
   "mimetype": "text/x-python",
   "name": "python",
   "nbconvert_exporter": "python",
   "pygments_lexer": "ipython3",
   "version": "3.7.11"
  }
 },
 "nbformat": 4,
 "nbformat_minor": 5
}
