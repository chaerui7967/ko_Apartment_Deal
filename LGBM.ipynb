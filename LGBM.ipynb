{
  "nbformat": 4,
  "nbformat_minor": 0,
  "metadata": {
    "colab": {
      "name": "LGBM.ipynb",
      "provenance": [],
      "collapsed_sections": [],
      "authorship_tag": "ABX9TyNWGJMMoPd4Nt9PoD48yrZk",
      "include_colab_link": true
    },
    "kernelspec": {
      "name": "python3",
      "display_name": "Python 3"
    },
    "language_info": {
      "name": "python"
    }
  },
  "cells": [
    {
      "cell_type": "markdown",
      "metadata": {
        "id": "view-in-github",
        "colab_type": "text"
      },
      "source": [
        "<a href=\"https://colab.research.google.com/github/chaerui7967/ko_Apartment_Deal/blob/master/LGBM.ipynb\" target=\"_parent\"><img src=\"https://colab.research.google.com/assets/colab-badge.svg\" alt=\"Open In Colab\"/></a>"
      ]
    },
    {
      "cell_type": "markdown",
      "metadata": {
        "id": "CswASw2xVUEq"
      },
      "source": [
        "# LGBM"
      ]
    },
    {
      "cell_type": "code",
      "metadata": {
        "id": "V95COGbeSPS6"
      },
      "source": [
        "import numpy as np\n",
        "import pandas as pd\n",
        "import matplotlib.pyplot as plt\n",
        "import seaborn as sns\n",
        "\n",
        "from sklearn.model_selection import train_test_split\n",
        "from sklearn.metrics import mean_squared_error"
      ],
      "execution_count": 1,
      "outputs": []
    },
    {
      "cell_type": "markdown",
      "metadata": {
        "id": "N8h7KHD6VbBi"
      },
      "source": [
        "## 데이터 가져오기"
      ]
    },
    {
      "cell_type": "code",
      "metadata": {
        "colab": {
          "base_uri": "https://localhost:8080/"
        },
        "id": "9z2LJZqhSr-B",
        "outputId": "9c884893-72cd-42f9-b7ab-8a45f2242e5c"
      },
      "source": [
        "from google.colab import drive\n",
        "\n",
        "drive.mount('/content/drive')"
      ],
      "execution_count": 2,
      "outputs": [
        {
          "output_type": "stream",
          "text": [
            "Mounted at /content/drive\n"
          ],
          "name": "stdout"
        }
      ]
    },
    {
      "cell_type": "code",
      "metadata": {
        "id": "OBQJykLoSxRk"
      },
      "source": [
        "df = pd.read_csv('/content/drive/My Drive/Colab Notebooks/project/final.csv')"
      ],
      "execution_count": 3,
      "outputs": []
    },
    {
      "cell_type": "code",
      "metadata": {
        "colab": {
          "base_uri": "https://localhost:8080/",
          "height": 203
        },
        "id": "EBX57U31S40J",
        "outputId": "d2c00fb1-8c10-4683-fd2f-d5e610c1bb0b"
      },
      "source": [
        "df.head()"
      ],
      "execution_count": 4,
      "outputs": [
        {
          "output_type": "execute_result",
          "data": {
            "text/html": [
              "<div>\n",
              "<style scoped>\n",
              "    .dataframe tbody tr th:only-of-type {\n",
              "        vertical-align: middle;\n",
              "    }\n",
              "\n",
              "    .dataframe tbody tr th {\n",
              "        vertical-align: top;\n",
              "    }\n",
              "\n",
              "    .dataframe thead th {\n",
              "        text-align: right;\n",
              "    }\n",
              "</style>\n",
              "<table border=\"1\" class=\"dataframe\">\n",
              "  <thead>\n",
              "    <tr style=\"text-align: right;\">\n",
              "      <th></th>\n",
              "      <th>Gu_Label</th>\n",
              "      <th>Dong_Label</th>\n",
              "      <th>Year</th>\n",
              "      <th>Exclusive_area</th>\n",
              "      <th>Floor</th>\n",
              "      <th>Price per squar</th>\n",
              "      <th>per_cost</th>\n",
              "      <th>top10</th>\n",
              "      <th>name_top10</th>\n",
              "      <th>YN_r</th>\n",
              "      <th>Hospital</th>\n",
              "      <th>Station</th>\n",
              "      <th>Transaction_real_price</th>\n",
              "    </tr>\n",
              "  </thead>\n",
              "  <tbody>\n",
              "    <tr>\n",
              "      <th>0</th>\n",
              "      <td>0</td>\n",
              "      <td>8</td>\n",
              "      <td>32</td>\n",
              "      <td>77.75</td>\n",
              "      <td>7</td>\n",
              "      <td>7003.020394</td>\n",
              "      <td>1922.829582</td>\n",
              "      <td>0</td>\n",
              "      <td>1.0</td>\n",
              "      <td>1</td>\n",
              "      <td>0.0</td>\n",
              "      <td>1</td>\n",
              "      <td>149500</td>\n",
              "    </tr>\n",
              "    <tr>\n",
              "      <th>1</th>\n",
              "      <td>0</td>\n",
              "      <td>8</td>\n",
              "      <td>33</td>\n",
              "      <td>54.98</td>\n",
              "      <td>7</td>\n",
              "      <td>7003.020394</td>\n",
              "      <td>2619.134231</td>\n",
              "      <td>0</td>\n",
              "      <td>1.0</td>\n",
              "      <td>1</td>\n",
              "      <td>0.0</td>\n",
              "      <td>1</td>\n",
              "      <td>144000</td>\n",
              "    </tr>\n",
              "    <tr>\n",
              "      <th>2</th>\n",
              "      <td>0</td>\n",
              "      <td>8</td>\n",
              "      <td>33</td>\n",
              "      <td>79.97</td>\n",
              "      <td>7</td>\n",
              "      <td>7003.020394</td>\n",
              "      <td>2035.138177</td>\n",
              "      <td>0</td>\n",
              "      <td>1.0</td>\n",
              "      <td>1</td>\n",
              "      <td>0.0</td>\n",
              "      <td>1</td>\n",
              "      <td>162750</td>\n",
              "    </tr>\n",
              "    <tr>\n",
              "      <th>3</th>\n",
              "      <td>0</td>\n",
              "      <td>8</td>\n",
              "      <td>33</td>\n",
              "      <td>79.97</td>\n",
              "      <td>8</td>\n",
              "      <td>7003.020394</td>\n",
              "      <td>2000.750281</td>\n",
              "      <td>0</td>\n",
              "      <td>1.0</td>\n",
              "      <td>1</td>\n",
              "      <td>0.0</td>\n",
              "      <td>1</td>\n",
              "      <td>160000</td>\n",
              "    </tr>\n",
              "    <tr>\n",
              "      <th>4</th>\n",
              "      <td>0</td>\n",
              "      <td>8</td>\n",
              "      <td>33</td>\n",
              "      <td>79.97</td>\n",
              "      <td>5</td>\n",
              "      <td>7003.020394</td>\n",
              "      <td>1875.703389</td>\n",
              "      <td>0</td>\n",
              "      <td>1.0</td>\n",
              "      <td>1</td>\n",
              "      <td>0.0</td>\n",
              "      <td>1</td>\n",
              "      <td>150000</td>\n",
              "    </tr>\n",
              "  </tbody>\n",
              "</table>\n",
              "</div>"
            ],
            "text/plain": [
              "   Gu_Label  Dong_Label  Year  ...  Hospital  Station  Transaction_real_price\n",
              "0         0           8    32  ...       0.0        1                  149500\n",
              "1         0           8    33  ...       0.0        1                  144000\n",
              "2         0           8    33  ...       0.0        1                  162750\n",
              "3         0           8    33  ...       0.0        1                  160000\n",
              "4         0           8    33  ...       0.0        1                  150000\n",
              "\n",
              "[5 rows x 13 columns]"
            ]
          },
          "metadata": {
            "tags": []
          },
          "execution_count": 4
        }
      ]
    },
    {
      "cell_type": "markdown",
      "metadata": {
        "id": "WOjStUNBVc6d"
      },
      "source": [
        "## 데이터 상관성 확인\n",
        "- 면적당 가격 변수와 공시지가 변수의 다중공선성이 예상됨"
      ]
    },
    {
      "cell_type": "code",
      "metadata": {
        "colab": {
          "base_uri": "https://localhost:8080/",
          "height": 466
        },
        "id": "kS_ovgd9U4_R",
        "outputId": "897fbdbd-579f-4c7f-c2e9-7c7f90a962db"
      },
      "source": [
        "df.corr()"
      ],
      "execution_count": 17,
      "outputs": [
        {
          "output_type": "execute_result",
          "data": {
            "text/html": [
              "<div>\n",
              "<style scoped>\n",
              "    .dataframe tbody tr th:only-of-type {\n",
              "        vertical-align: middle;\n",
              "    }\n",
              "\n",
              "    .dataframe tbody tr th {\n",
              "        vertical-align: top;\n",
              "    }\n",
              "\n",
              "    .dataframe thead th {\n",
              "        text-align: right;\n",
              "    }\n",
              "</style>\n",
              "<table border=\"1\" class=\"dataframe\">\n",
              "  <thead>\n",
              "    <tr style=\"text-align: right;\">\n",
              "      <th></th>\n",
              "      <th>Gu_Label</th>\n",
              "      <th>Dong_Label</th>\n",
              "      <th>Year</th>\n",
              "      <th>Exclusive_area</th>\n",
              "      <th>Floor</th>\n",
              "      <th>Price per squar</th>\n",
              "      <th>per_cost</th>\n",
              "      <th>top10</th>\n",
              "      <th>name_top10</th>\n",
              "      <th>YN_r</th>\n",
              "      <th>Hospital</th>\n",
              "      <th>Station</th>\n",
              "      <th>Transaction_real_price</th>\n",
              "    </tr>\n",
              "  </thead>\n",
              "  <tbody>\n",
              "    <tr>\n",
              "      <th>Gu_Label</th>\n",
              "      <td>1.000000</td>\n",
              "      <td>0.153723</td>\n",
              "      <td>-0.063263</td>\n",
              "      <td>0.073007</td>\n",
              "      <td>0.011489</td>\n",
              "      <td>0.017240</td>\n",
              "      <td>0.012496</td>\n",
              "      <td>0.053387</td>\n",
              "      <td>-0.011383</td>\n",
              "      <td>0.033958</td>\n",
              "      <td>-0.058346</td>\n",
              "      <td>-0.062922</td>\n",
              "      <td>0.042222</td>\n",
              "    </tr>\n",
              "    <tr>\n",
              "      <th>Dong_Label</th>\n",
              "      <td>0.153723</td>\n",
              "      <td>1.000000</td>\n",
              "      <td>-0.009175</td>\n",
              "      <td>0.033631</td>\n",
              "      <td>-0.009071</td>\n",
              "      <td>0.034677</td>\n",
              "      <td>-0.004160</td>\n",
              "      <td>0.023015</td>\n",
              "      <td>-0.027447</td>\n",
              "      <td>-0.010063</td>\n",
              "      <td>-0.130541</td>\n",
              "      <td>-0.119431</td>\n",
              "      <td>0.020126</td>\n",
              "    </tr>\n",
              "    <tr>\n",
              "      <th>Year</th>\n",
              "      <td>-0.063263</td>\n",
              "      <td>-0.009175</td>\n",
              "      <td>1.000000</td>\n",
              "      <td>0.007954</td>\n",
              "      <td>-0.168207</td>\n",
              "      <td>-0.023730</td>\n",
              "      <td>-0.017571</td>\n",
              "      <td>-0.414312</td>\n",
              "      <td>0.247947</td>\n",
              "      <td>-0.044628</td>\n",
              "      <td>0.131619</td>\n",
              "      <td>0.154928</td>\n",
              "      <td>-0.022844</td>\n",
              "    </tr>\n",
              "    <tr>\n",
              "      <th>Exclusive_area</th>\n",
              "      <td>0.073007</td>\n",
              "      <td>0.033631</td>\n",
              "      <td>0.007954</td>\n",
              "      <td>1.000000</td>\n",
              "      <td>0.111913</td>\n",
              "      <td>0.232245</td>\n",
              "      <td>0.101595</td>\n",
              "      <td>0.147455</td>\n",
              "      <td>-0.040630</td>\n",
              "      <td>0.003551</td>\n",
              "      <td>-0.050694</td>\n",
              "      <td>-0.046014</td>\n",
              "      <td>0.621976</td>\n",
              "    </tr>\n",
              "    <tr>\n",
              "      <th>Floor</th>\n",
              "      <td>0.011489</td>\n",
              "      <td>-0.009071</td>\n",
              "      <td>-0.168207</td>\n",
              "      <td>0.111913</td>\n",
              "      <td>1.000000</td>\n",
              "      <td>0.061861</td>\n",
              "      <td>0.103451</td>\n",
              "      <td>0.136767</td>\n",
              "      <td>-0.020222</td>\n",
              "      <td>-0.005687</td>\n",
              "      <td>-0.036092</td>\n",
              "      <td>-0.022454</td>\n",
              "      <td>0.194157</td>\n",
              "    </tr>\n",
              "    <tr>\n",
              "      <th>Price per squar</th>\n",
              "      <td>0.017240</td>\n",
              "      <td>0.034677</td>\n",
              "      <td>-0.023730</td>\n",
              "      <td>0.232245</td>\n",
              "      <td>0.061861</td>\n",
              "      <td>1.000000</td>\n",
              "      <td>0.660751</td>\n",
              "      <td>0.068800</td>\n",
              "      <td>-0.108250</td>\n",
              "      <td>0.063967</td>\n",
              "      <td>-0.145129</td>\n",
              "      <td>0.019658</td>\n",
              "      <td>0.633968</td>\n",
              "    </tr>\n",
              "    <tr>\n",
              "      <th>per_cost</th>\n",
              "      <td>0.012496</td>\n",
              "      <td>-0.004160</td>\n",
              "      <td>-0.017571</td>\n",
              "      <td>0.101595</td>\n",
              "      <td>0.103451</td>\n",
              "      <td>0.660751</td>\n",
              "      <td>1.000000</td>\n",
              "      <td>0.148406</td>\n",
              "      <td>-0.021952</td>\n",
              "      <td>0.119634</td>\n",
              "      <td>-0.087514</td>\n",
              "      <td>0.021458</td>\n",
              "      <td>0.637118</td>\n",
              "    </tr>\n",
              "    <tr>\n",
              "      <th>top10</th>\n",
              "      <td>0.053387</td>\n",
              "      <td>0.023015</td>\n",
              "      <td>-0.414312</td>\n",
              "      <td>0.147455</td>\n",
              "      <td>0.136767</td>\n",
              "      <td>0.068800</td>\n",
              "      <td>0.148406</td>\n",
              "      <td>1.000000</td>\n",
              "      <td>-0.132607</td>\n",
              "      <td>0.176902</td>\n",
              "      <td>-0.128476</td>\n",
              "      <td>-0.092094</td>\n",
              "      <td>0.231179</td>\n",
              "    </tr>\n",
              "    <tr>\n",
              "      <th>name_top10</th>\n",
              "      <td>-0.011383</td>\n",
              "      <td>-0.027447</td>\n",
              "      <td>0.247947</td>\n",
              "      <td>-0.040630</td>\n",
              "      <td>-0.020222</td>\n",
              "      <td>-0.108250</td>\n",
              "      <td>-0.021952</td>\n",
              "      <td>-0.132607</td>\n",
              "      <td>1.000000</td>\n",
              "      <td>0.061107</td>\n",
              "      <td>0.107170</td>\n",
              "      <td>0.105403</td>\n",
              "      <td>-0.048034</td>\n",
              "    </tr>\n",
              "    <tr>\n",
              "      <th>YN_r</th>\n",
              "      <td>0.033958</td>\n",
              "      <td>-0.010063</td>\n",
              "      <td>-0.044628</td>\n",
              "      <td>0.003551</td>\n",
              "      <td>-0.005687</td>\n",
              "      <td>0.063967</td>\n",
              "      <td>0.119634</td>\n",
              "      <td>0.176902</td>\n",
              "      <td>0.061107</td>\n",
              "      <td>1.000000</td>\n",
              "      <td>0.022781</td>\n",
              "      <td>0.106059</td>\n",
              "      <td>0.091822</td>\n",
              "    </tr>\n",
              "    <tr>\n",
              "      <th>Hospital</th>\n",
              "      <td>-0.058346</td>\n",
              "      <td>-0.130541</td>\n",
              "      <td>0.131619</td>\n",
              "      <td>-0.050694</td>\n",
              "      <td>-0.036092</td>\n",
              "      <td>-0.145129</td>\n",
              "      <td>-0.087514</td>\n",
              "      <td>-0.128476</td>\n",
              "      <td>0.107170</td>\n",
              "      <td>0.022781</td>\n",
              "      <td>1.000000</td>\n",
              "      <td>0.242752</td>\n",
              "      <td>-0.071465</td>\n",
              "    </tr>\n",
              "    <tr>\n",
              "      <th>Station</th>\n",
              "      <td>-0.062922</td>\n",
              "      <td>-0.119431</td>\n",
              "      <td>0.154928</td>\n",
              "      <td>-0.046014</td>\n",
              "      <td>-0.022454</td>\n",
              "      <td>0.019658</td>\n",
              "      <td>0.021458</td>\n",
              "      <td>-0.092094</td>\n",
              "      <td>0.105403</td>\n",
              "      <td>0.106059</td>\n",
              "      <td>0.242752</td>\n",
              "      <td>1.000000</td>\n",
              "      <td>-0.004136</td>\n",
              "    </tr>\n",
              "    <tr>\n",
              "      <th>Transaction_real_price</th>\n",
              "      <td>0.042222</td>\n",
              "      <td>0.020126</td>\n",
              "      <td>-0.022844</td>\n",
              "      <td>0.621976</td>\n",
              "      <td>0.194157</td>\n",
              "      <td>0.633968</td>\n",
              "      <td>0.637118</td>\n",
              "      <td>0.231179</td>\n",
              "      <td>-0.048034</td>\n",
              "      <td>0.091822</td>\n",
              "      <td>-0.071465</td>\n",
              "      <td>-0.004136</td>\n",
              "      <td>1.000000</td>\n",
              "    </tr>\n",
              "  </tbody>\n",
              "</table>\n",
              "</div>"
            ],
            "text/plain": [
              "                        Gu_Label  Dong_Label  ...   Station  Transaction_real_price\n",
              "Gu_Label                1.000000    0.153723  ... -0.062922                0.042222\n",
              "Dong_Label              0.153723    1.000000  ... -0.119431                0.020126\n",
              "Year                   -0.063263   -0.009175  ...  0.154928               -0.022844\n",
              "Exclusive_area          0.073007    0.033631  ... -0.046014                0.621976\n",
              "Floor                   0.011489   -0.009071  ... -0.022454                0.194157\n",
              "Price per squar         0.017240    0.034677  ...  0.019658                0.633968\n",
              "per_cost                0.012496   -0.004160  ...  0.021458                0.637118\n",
              "top10                   0.053387    0.023015  ... -0.092094                0.231179\n",
              "name_top10             -0.011383   -0.027447  ...  0.105403               -0.048034\n",
              "YN_r                    0.033958   -0.010063  ...  0.106059                0.091822\n",
              "Hospital               -0.058346   -0.130541  ...  0.242752               -0.071465\n",
              "Station                -0.062922   -0.119431  ...  1.000000               -0.004136\n",
              "Transaction_real_price  0.042222    0.020126  ... -0.004136                1.000000\n",
              "\n",
              "[13 rows x 13 columns]"
            ]
          },
          "metadata": {
            "tags": []
          },
          "execution_count": 17
        }
      ]
    },
    {
      "cell_type": "markdown",
      "metadata": {
        "id": "I7YcP3hqbPPn"
      },
      "source": [
        "## 전체 데이터 모델링"
      ]
    },
    {
      "cell_type": "code",
      "metadata": {
        "id": "fZJXpzAGbOp0"
      },
      "source": [
        "X = df.drop(['Transaction_real_price'], axis = 1)\n",
        "y = df['Transaction_real_price']\n",
        "\n",
        "X_train, X_test, y_train, y_test = train_test_split(X, y,\n",
        "                                                   test_size = 0.2,\n",
        "                                                   random_state = 99)"
      ],
      "execution_count": 49,
      "outputs": []
    },
    {
      "cell_type": "code",
      "metadata": {
        "colab": {
          "base_uri": "https://localhost:8080/"
        },
        "id": "e0gU9KLebY3Y",
        "outputId": "69114823-bd25-4662-be8f-ac2a08563fd3"
      },
      "source": [
        "%time\n",
        "from lightgbm import LGBMRegressor\n",
        "\n",
        "lgb = LGBMRegressor(linear_tree = True,\n",
        "                   boosting_type = 'gbdt',\n",
        "                   objective = 'regression',\n",
        "                   n_estimators = 9000,\n",
        "                   learning_rate = 0.001,\n",
        "                   max_depth = 4,\n",
        "                   n_jobs = -1)\n",
        "\n",
        "lgb.fit(X_train, y_train)"
      ],
      "execution_count": 50,
      "outputs": [
        {
          "output_type": "stream",
          "text": [
            "CPU times: user 5 µs, sys: 0 ns, total: 5 µs\n",
            "Wall time: 9.54 µs\n"
          ],
          "name": "stdout"
        },
        {
          "output_type": "execute_result",
          "data": {
            "text/plain": [
              "LGBMRegressor(boosting_type='gbdt', class_weight=None, colsample_bytree=1.0,\n",
              "              importance_type='split', learning_rate=0.001, linear_tree=True,\n",
              "              max_depth=4, min_child_samples=20, min_child_weight=0.001,\n",
              "              min_split_gain=0.0, n_estimators=9000, n_jobs=-1, num_leaves=31,\n",
              "              objective='regression', random_state=None, reg_alpha=0.0,\n",
              "              reg_lambda=0.0, silent=True, subsample=1.0,\n",
              "              subsample_for_bin=200000, subsample_freq=0)"
            ]
          },
          "metadata": {
            "tags": []
          },
          "execution_count": 50
        }
      ]
    },
    {
      "cell_type": "code",
      "metadata": {
        "colab": {
          "base_uri": "https://localhost:8080/"
        },
        "id": "ItcRN6uVbbYn",
        "outputId": "52b370a1-8873-4808-9298-52da431fe5f0"
      },
      "source": [
        "from math import sqrt\n",
        "MSE = mean_squared_error(y_test, lgb.predict(X_test))\n",
        "\n",
        "print(f'MSE : {MSE}')\n",
        "print(f'RMSE : {sqrt(MSE)}')"
      ],
      "execution_count": 51,
      "outputs": [
        {
          "output_type": "stream",
          "text": [
            "MSE : 434985448.1827082\n",
            "RMSE : 20856.304758578597\n"
          ],
          "name": "stdout"
        }
      ]
    },
    {
      "cell_type": "code",
      "metadata": {
        "colab": {
          "base_uri": "https://localhost:8080/"
        },
        "id": "aE5-thXObbVL",
        "outputId": "4741565a-65b9-46a4-806d-db7f6d5c63d0"
      },
      "source": [
        "lgb.feature_importances_"
      ],
      "execution_count": 52,
      "outputs": [
        {
          "output_type": "execute_result",
          "data": {
            "text/plain": [
              "array([ 9192,  9233, 26483, 31072,  6824, 15209, 18702,  3176,   474,\n",
              "        1899,  1011,  4210])"
            ]
          },
          "metadata": {
            "tags": []
          },
          "execution_count": 52
        }
      ]
    },
    {
      "cell_type": "code",
      "metadata": {
        "colab": {
          "base_uri": "https://localhost:8080/"
        },
        "id": "bxMsrJ8JbbMK",
        "outputId": "b7758519-b476-42d8-a012-b666f0218086"
      },
      "source": [
        "X.columns"
      ],
      "execution_count": 53,
      "outputs": [
        {
          "output_type": "execute_result",
          "data": {
            "text/plain": [
              "Index(['Gu_Label', 'Dong_Label', 'Year', 'Exclusive_area', 'Floor',\n",
              "       'Price per squar', 'per_cost', 'top10', 'name_top10', 'YN_r',\n",
              "       'Hospital', 'Station'],\n",
              "      dtype='object')"
            ]
          },
          "metadata": {
            "tags": []
          },
          "execution_count": 53
        }
      ]
    },
    {
      "cell_type": "markdown",
      "metadata": {
        "id": "_oqdcGEEbw0v"
      },
      "source": [
        "## 변수 선택\n",
        "- feature_importances_ 기준 2000 이하값 삭제\n",
        "- 병원 유무, 지역이름 유무, 상위빈도 이름 삭제"
      ]
    },
    {
      "cell_type": "code",
      "metadata": {
        "id": "zLjVl8xNcMr6"
      },
      "source": [
        "df_rj = df.drop(['Hospital','name_top10', 'YN_r'], axis=1)"
      ],
      "execution_count": 54,
      "outputs": []
    },
    {
      "cell_type": "code",
      "metadata": {
        "colab": {
          "base_uri": "https://localhost:8080/"
        },
        "id": "ZS6gTCwVcMln",
        "outputId": "0e72624f-513e-4c40-d3fd-3446e4fb716d"
      },
      "source": [
        "%time\n",
        "X = df_rj.drop(['Transaction_real_price'], axis = 1)\n",
        "y = df_rj['Transaction_real_price']\n",
        "\n",
        "X_train, X_test, y_train, y_test = train_test_split(X, y,\n",
        "                                                   test_size = 0.2,\n",
        "                                                   random_state = 99)\n",
        "\n",
        "lgb = LGBMRegressor(linear_tree = True,\n",
        "                   boosting_type = 'gbdt',\n",
        "                   objective = 'regression',\n",
        "                   n_estimators = 9000,\n",
        "                   learning_rate = 0.001,\n",
        "                   max_depth = 4,\n",
        "                   n_jobs = -1)\n",
        "\n",
        "lgb.fit(X_train, y_train)"
      ],
      "execution_count": 55,
      "outputs": [
        {
          "output_type": "stream",
          "text": [
            "CPU times: user 6 µs, sys: 0 ns, total: 6 µs\n",
            "Wall time: 9.54 µs\n"
          ],
          "name": "stdout"
        },
        {
          "output_type": "execute_result",
          "data": {
            "text/plain": [
              "LGBMRegressor(boosting_type='gbdt', class_weight=None, colsample_bytree=1.0,\n",
              "              importance_type='split', learning_rate=0.001, linear_tree=True,\n",
              "              max_depth=4, min_child_samples=20, min_child_weight=0.001,\n",
              "              min_split_gain=0.0, n_estimators=9000, n_jobs=-1, num_leaves=31,\n",
              "              objective='regression', random_state=None, reg_alpha=0.0,\n",
              "              reg_lambda=0.0, silent=True, subsample=1.0,\n",
              "              subsample_for_bin=200000, subsample_freq=0)"
            ]
          },
          "metadata": {
            "tags": []
          },
          "execution_count": 55
        }
      ]
    },
    {
      "cell_type": "code",
      "metadata": {
        "colab": {
          "base_uri": "https://localhost:8080/"
        },
        "id": "Qp0UquyWcMio",
        "outputId": "9c2bb0b5-2739-4a0a-9948-0aa21f949dbc"
      },
      "source": [
        "MSE = mean_squared_error(y_test, lgb.predict(X_test))\n",
        "\n",
        "print(f'MSE : {MSE}')\n",
        "print(f'RMSE : {sqrt(MSE)}')"
      ],
      "execution_count": 56,
      "outputs": [
        {
          "output_type": "stream",
          "text": [
            "MSE : 437075216.16076285\n",
            "RMSE : 20906.343921421623\n"
          ],
          "name": "stdout"
        }
      ]
    },
    {
      "cell_type": "code",
      "metadata": {
        "colab": {
          "base_uri": "https://localhost:8080/"
        },
        "id": "JIDNeBLlcpu6",
        "outputId": "8c5769b9-67e8-4a04-b76a-eff236dfd1d4"
      },
      "source": [
        "lgb.feature_importances_"
      ],
      "execution_count": 57,
      "outputs": [
        {
          "output_type": "execute_result",
          "data": {
            "text/plain": [
              "array([ 9616,  9842, 26416, 31052,  6588, 15754, 19263,  3479,  4773])"
            ]
          },
          "metadata": {
            "tags": []
          },
          "execution_count": 57
        }
      ]
    },
    {
      "cell_type": "code",
      "metadata": {
        "colab": {
          "base_uri": "https://localhost:8080/"
        },
        "id": "DWhY-NgMcplF",
        "outputId": "752e9291-cdf8-464f-8558-fd9016b41c22"
      },
      "source": [
        "X.columns"
      ],
      "execution_count": 58,
      "outputs": [
        {
          "output_type": "execute_result",
          "data": {
            "text/plain": [
              "Index(['Gu_Label', 'Dong_Label', 'Year', 'Exclusive_area', 'Floor',\n",
              "       'Price per squar', 'per_cost', 'top10', 'Station'],\n",
              "      dtype='object')"
            ]
          },
          "metadata": {
            "tags": []
          },
          "execution_count": 58
        }
      ]
    },
    {
      "cell_type": "markdown",
      "metadata": {
        "id": "US5B6K1Jc3ki"
      },
      "source": [
        "## 다중공성선 문제인가"
      ]
    },
    {
      "cell_type": "markdown",
      "metadata": {
        "id": "pHfFafy1V3Ea"
      },
      "source": [
        "## 공시지가로 모델링\n",
        "- 면적당 가격 제거"
      ]
    },
    {
      "cell_type": "code",
      "metadata": {
        "id": "CwUYNIJWU9CZ"
      },
      "source": [
        "df_1 = df.drop('per_cost', axis=1)"
      ],
      "execution_count": 18,
      "outputs": []
    },
    {
      "cell_type": "code",
      "metadata": {
        "id": "Uyqh5LeuS7Bh"
      },
      "source": [
        "X = df_1.drop(['Transaction_real_price'], axis = 1)\n",
        "y = df_1['Transaction_real_price']\n",
        "\n",
        "X_train, X_test, y_train, y_test = train_test_split(X, y,\n",
        "                                                   test_size = 0.2,\n",
        "                                                   random_state = 99)"
      ],
      "execution_count": 19,
      "outputs": []
    },
    {
      "cell_type": "code",
      "metadata": {
        "colab": {
          "base_uri": "https://localhost:8080/"
        },
        "id": "zldE_vPmS_m9",
        "outputId": "153e5a5e-8e16-4fa5-f731-5b08c9e12a29"
      },
      "source": [
        "%time\n",
        "from lightgbm import LGBMRegressor\n",
        "\n",
        "lgb = LGBMRegressor(linear_tree = True,\n",
        "                   boosting_type = 'gbdt',\n",
        "                   objective = 'regression',\n",
        "                   n_estimators = 9000,\n",
        "                   learning_rate = 0.001,\n",
        "                   max_depth = 4,\n",
        "                   n_jobs = -1)\n",
        "\n",
        "lgb.fit(X_train, y_train)"
      ],
      "execution_count": 20,
      "outputs": [
        {
          "output_type": "stream",
          "text": [
            "CPU times: user 3 µs, sys: 0 ns, total: 3 µs\n",
            "Wall time: 6.91 µs\n"
          ],
          "name": "stdout"
        },
        {
          "output_type": "execute_result",
          "data": {
            "text/plain": [
              "LGBMRegressor(boosting_type='gbdt', class_weight=None, colsample_bytree=1.0,\n",
              "              importance_type='split', learning_rate=0.001, linear_tree=True,\n",
              "              max_depth=4, min_child_samples=20, min_child_weight=0.001,\n",
              "              min_split_gain=0.0, n_estimators=9000, n_jobs=-1, num_leaves=31,\n",
              "              objective='regression', random_state=None, reg_alpha=0.0,\n",
              "              reg_lambda=0.0, silent=True, subsample=1.0,\n",
              "              subsample_for_bin=200000, subsample_freq=0)"
            ]
          },
          "metadata": {
            "tags": []
          },
          "execution_count": 20
        }
      ]
    },
    {
      "cell_type": "code",
      "metadata": {
        "colab": {
          "base_uri": "https://localhost:8080/"
        },
        "id": "RpQJduskVokf",
        "outputId": "1c48a373-63fa-4d2b-9628-560c8766d94b"
      },
      "source": [
        "df_1.columns"
      ],
      "execution_count": 22,
      "outputs": [
        {
          "output_type": "execute_result",
          "data": {
            "text/plain": [
              "Index(['Gu_Label', 'Dong_Label', 'Year', 'Exclusive_area', 'Floor',\n",
              "       'Price per squar', 'top10', 'name_top10', 'YN_r', 'Hospital', 'Station',\n",
              "       'Transaction_real_price'],\n",
              "      dtype='object')"
            ]
          },
          "metadata": {
            "tags": []
          },
          "execution_count": 22
        }
      ]
    },
    {
      "cell_type": "code",
      "metadata": {
        "colab": {
          "base_uri": "https://localhost:8080/"
        },
        "id": "lrIcFZMpTOdk",
        "outputId": "13fa9eef-1ca3-48a1-a0bb-c577c028c35c"
      },
      "source": [
        "from math import sqrt\n",
        "MSE = mean_squared_error(y_test, lgb.predict(X_test))\n",
        "\n",
        "print(f'MSE : {MSE}')\n",
        "print(f'RMSE : {sqrt(MSE)}')"
      ],
      "execution_count": 21,
      "outputs": [
        {
          "output_type": "stream",
          "text": [
            "MSE : 538066129.5644171\n",
            "RMSE : 23196.252489667746\n"
          ],
          "name": "stdout"
        }
      ]
    },
    {
      "cell_type": "code",
      "metadata": {
        "colab": {
          "base_uri": "https://localhost:8080/"
        },
        "id": "TUs44Kd2WHoS",
        "outputId": "6b5ea1e3-37d0-41f2-e55f-d8ac05c89b9f"
      },
      "source": [
        "lgb.feature_importances_"
      ],
      "execution_count": 27,
      "outputs": [
        {
          "output_type": "execute_result",
          "data": {
            "text/plain": [
              "array([ 9151, 15931, 30460, 26755,  6522, 20161,  4342,  1357,  2471,\n",
              "        2138,  7360])"
            ]
          },
          "metadata": {
            "tags": []
          },
          "execution_count": 27
        }
      ]
    },
    {
      "cell_type": "markdown",
      "metadata": {
        "id": "E51pouUIW_VS"
      },
      "source": [
        "# 면적당 가격\n",
        "- 공시지가 제거"
      ]
    },
    {
      "cell_type": "code",
      "metadata": {
        "id": "rUBBv8rCTYU9"
      },
      "source": [
        "df_2 = df.drop('Price per squar', axis=1)"
      ],
      "execution_count": 33,
      "outputs": []
    },
    {
      "cell_type": "code",
      "metadata": {
        "id": "WOEQnjJzWVTL"
      },
      "source": [
        "X = df_2.drop(['Transaction_real_price'], axis = 1)\n",
        "y = df_2['Transaction_real_price']\n",
        "\n",
        "X_train, X_test, y_train, y_test = train_test_split(X, y,\n",
        "                                                   test_size = 0.2,\n",
        "                                                   random_state = 99)"
      ],
      "execution_count": 35,
      "outputs": []
    },
    {
      "cell_type": "code",
      "metadata": {
        "colab": {
          "base_uri": "https://localhost:8080/"
        },
        "id": "wAN5gs2pXKB9",
        "outputId": "1e7f85f6-9794-48ff-9ee4-c0e7e816a1a9"
      },
      "source": [
        "%time\n",
        "from lightgbm import LGBMRegressor\n",
        "\n",
        "lgb = LGBMRegressor(linear_tree = True,\n",
        "                   boosting_type = 'gbdt',\n",
        "                   objective = 'regression',\n",
        "                   n_estimators = 9000,\n",
        "                   learning_rate = 0.001,\n",
        "                   max_depth = 4,\n",
        "                   n_jobs = -1)\n",
        "\n",
        "lgb.fit(X_train, y_train)"
      ],
      "execution_count": 36,
      "outputs": [
        {
          "output_type": "stream",
          "text": [
            "CPU times: user 4 µs, sys: 0 ns, total: 4 µs\n",
            "Wall time: 8.34 µs\n"
          ],
          "name": "stdout"
        },
        {
          "output_type": "execute_result",
          "data": {
            "text/plain": [
              "LGBMRegressor(boosting_type='gbdt', class_weight=None, colsample_bytree=1.0,\n",
              "              importance_type='split', learning_rate=0.001, linear_tree=True,\n",
              "              max_depth=4, min_child_samples=20, min_child_weight=0.001,\n",
              "              min_split_gain=0.0, n_estimators=9000, n_jobs=-1, num_leaves=31,\n",
              "              objective='regression', random_state=None, reg_alpha=0.0,\n",
              "              reg_lambda=0.0, silent=True, subsample=1.0,\n",
              "              subsample_for_bin=200000, subsample_freq=0)"
            ]
          },
          "metadata": {
            "tags": []
          },
          "execution_count": 36
        }
      ]
    },
    {
      "cell_type": "code",
      "metadata": {
        "colab": {
          "base_uri": "https://localhost:8080/"
        },
        "id": "qSV3UpKIXOAJ",
        "outputId": "20a6881e-8d00-43ef-d60f-f0ea10c3eb73"
      },
      "source": [
        "MSE = mean_squared_error(y_test, lgb.predict(X_test))\n",
        "\n",
        "print(f'MSE : {MSE}')\n",
        "print(f'RMSE : {sqrt(MSE)}')"
      ],
      "execution_count": 37,
      "outputs": [
        {
          "output_type": "stream",
          "text": [
            "MSE : 474760606.30988544\n",
            "RMSE : 21789.001957636458\n"
          ],
          "name": "stdout"
        }
      ]
    },
    {
      "cell_type": "code",
      "metadata": {
        "colab": {
          "base_uri": "https://localhost:8080/"
        },
        "id": "5P99w8m1XR0u",
        "outputId": "64cb4233-f8dc-4ad8-98b1-d904386dc10f"
      },
      "source": [
        "lgb.feature_importances_"
      ],
      "execution_count": 38,
      "outputs": [
        {
          "output_type": "execute_result",
          "data": {
            "text/plain": [
              "array([22479,  9455, 24649, 30704,  5337, 25779,  2716,   369,  1788,\n",
              "        1213,  4484])"
            ]
          },
          "metadata": {
            "tags": []
          },
          "execution_count": 38
        }
      ]
    },
    {
      "cell_type": "markdown",
      "metadata": {
        "id": "SnvrsKesaSDy"
      },
      "source": [
        "## 시공사기준 + 병원 유무 \n",
        "- 공시지가 제거, 높은 빈도수 이름 제거"
      ]
    },
    {
      "cell_type": "code",
      "metadata": {
        "id": "swq1pAoFXjaL"
      },
      "source": [
        "df_h = df.drop(['Price per squar','name_top10'], axis=1)"
      ],
      "execution_count": 44,
      "outputs": []
    },
    {
      "cell_type": "code",
      "metadata": {
        "colab": {
          "base_uri": "https://localhost:8080/",
          "height": 100
        },
        "id": "R1xNw-JKasCb",
        "outputId": "927d3dd5-cca7-4fcf-eb65-116d5a4f5995"
      },
      "source": [
        "df_h.head(1)"
      ],
      "execution_count": 45,
      "outputs": [
        {
          "output_type": "execute_result",
          "data": {
            "text/html": [
              "<div>\n",
              "<style scoped>\n",
              "    .dataframe tbody tr th:only-of-type {\n",
              "        vertical-align: middle;\n",
              "    }\n",
              "\n",
              "    .dataframe tbody tr th {\n",
              "        vertical-align: top;\n",
              "    }\n",
              "\n",
              "    .dataframe thead th {\n",
              "        text-align: right;\n",
              "    }\n",
              "</style>\n",
              "<table border=\"1\" class=\"dataframe\">\n",
              "  <thead>\n",
              "    <tr style=\"text-align: right;\">\n",
              "      <th></th>\n",
              "      <th>Gu_Label</th>\n",
              "      <th>Dong_Label</th>\n",
              "      <th>Year</th>\n",
              "      <th>Exclusive_area</th>\n",
              "      <th>Floor</th>\n",
              "      <th>per_cost</th>\n",
              "      <th>top10</th>\n",
              "      <th>YN_r</th>\n",
              "      <th>Hospital</th>\n",
              "      <th>Station</th>\n",
              "      <th>Transaction_real_price</th>\n",
              "    </tr>\n",
              "  </thead>\n",
              "  <tbody>\n",
              "    <tr>\n",
              "      <th>0</th>\n",
              "      <td>0</td>\n",
              "      <td>8</td>\n",
              "      <td>32</td>\n",
              "      <td>77.75</td>\n",
              "      <td>7</td>\n",
              "      <td>1922.829582</td>\n",
              "      <td>0</td>\n",
              "      <td>1</td>\n",
              "      <td>0.0</td>\n",
              "      <td>1</td>\n",
              "      <td>149500</td>\n",
              "    </tr>\n",
              "  </tbody>\n",
              "</table>\n",
              "</div>"
            ],
            "text/plain": [
              "   Gu_Label  Dong_Label  Year  ...  Hospital  Station  Transaction_real_price\n",
              "0         0           8    32  ...       0.0        1                  149500\n",
              "\n",
              "[1 rows x 11 columns]"
            ]
          },
          "metadata": {
            "tags": []
          },
          "execution_count": 45
        }
      ]
    },
    {
      "cell_type": "code",
      "metadata": {
        "id": "r9dOlIDvar_s"
      },
      "source": [
        "X = df_h.drop(['Transaction_real_price'], axis = 1)\n",
        "y = df_h['Transaction_real_price']\n",
        "\n",
        "X_train, X_test, y_train, y_test = train_test_split(X, y,\n",
        "                                                   test_size = 0.2,\n",
        "                                                   random_state = 99)"
      ],
      "execution_count": 46,
      "outputs": []
    },
    {
      "cell_type": "code",
      "metadata": {
        "colab": {
          "base_uri": "https://localhost:8080/"
        },
        "id": "XumDoUe3ar9M",
        "outputId": "cf9293e7-f5e7-46f4-a0b0-55f2905d69a3"
      },
      "source": [
        "%time\n",
        "lgb = LGBMRegressor(linear_tree = True,\n",
        "                   boosting_type = 'gbdt',\n",
        "                   objective = 'regression',\n",
        "                   n_estimators = 9000,\n",
        "                   learning_rate = 0.001,\n",
        "                   max_depth = 4,\n",
        "                   n_jobs = -1)\n",
        "\n",
        "lgb.fit(X_train, y_train)"
      ],
      "execution_count": 47,
      "outputs": [
        {
          "output_type": "stream",
          "text": [
            "CPU times: user 4 µs, sys: 0 ns, total: 4 µs\n",
            "Wall time: 7.63 µs\n"
          ],
          "name": "stdout"
        },
        {
          "output_type": "execute_result",
          "data": {
            "text/plain": [
              "LGBMRegressor(boosting_type='gbdt', class_weight=None, colsample_bytree=1.0,\n",
              "              importance_type='split', learning_rate=0.001, linear_tree=True,\n",
              "              max_depth=4, min_child_samples=20, min_child_weight=0.001,\n",
              "              min_split_gain=0.0, n_estimators=9000, n_jobs=-1, num_leaves=31,\n",
              "              objective='regression', random_state=None, reg_alpha=0.0,\n",
              "              reg_lambda=0.0, silent=True, subsample=1.0,\n",
              "              subsample_for_bin=200000, subsample_freq=0)"
            ]
          },
          "metadata": {
            "tags": []
          },
          "execution_count": 47
        }
      ]
    },
    {
      "cell_type": "code",
      "metadata": {
        "colab": {
          "base_uri": "https://localhost:8080/"
        },
        "id": "j5RDc7TSar6f",
        "outputId": "94e089a2-7a33-44d8-df54-c5da5b9370f8"
      },
      "source": [
        "MSE = mean_squared_error(y_test, lgb.predict(X_test))\n",
        "\n",
        "print(f'MSE : {MSE}')\n",
        "print(f'RMSE : {sqrt(MSE)}')"
      ],
      "execution_count": 48,
      "outputs": [
        {
          "output_type": "stream",
          "text": [
            "MSE : 475248605.7791465\n",
            "RMSE : 21800.197379362107\n"
          ],
          "name": "stdout"
        }
      ]
    },
    {
      "cell_type": "code",
      "metadata": {
        "id": "tYQujTa-ar3s"
      },
      "source": [
        ""
      ],
      "execution_count": null,
      "outputs": []
    },
    {
      "cell_type": "code",
      "metadata": {
        "id": "B_UmBTPTaruB"
      },
      "source": [
        ""
      ],
      "execution_count": null,
      "outputs": []
    },
    {
      "cell_type": "markdown",
      "metadata": {
        "id": "2B19x-DPXs1B"
      },
      "source": [
        "# 공시지가, 시공사기준 top10, hospital 제거 으로 예측"
      ]
    },
    {
      "cell_type": "code",
      "metadata": {
        "id": "7nq_8JiBXuTi"
      },
      "source": [
        "df_3 = pd.read_csv('/content/drive/My Drive/Colab Notebooks/project/seoul_4.csv')"
      ],
      "execution_count": 59,
      "outputs": []
    },
    {
      "cell_type": "code",
      "metadata": {
        "colab": {
          "base_uri": "https://localhost:8080/",
          "height": 80
        },
        "id": "SUCcWrajXx1i",
        "outputId": "60f37242-3abc-4c94-c6b5-08e15618b56f"
      },
      "source": [
        "df_3.head(1)"
      ],
      "execution_count": 60,
      "outputs": [
        {
          "output_type": "execute_result",
          "data": {
            "text/html": [
              "<div>\n",
              "<style scoped>\n",
              "    .dataframe tbody tr th:only-of-type {\n",
              "        vertical-align: middle;\n",
              "    }\n",
              "\n",
              "    .dataframe tbody tr th {\n",
              "        vertical-align: top;\n",
              "    }\n",
              "\n",
              "    .dataframe thead th {\n",
              "        text-align: right;\n",
              "    }\n",
              "</style>\n",
              "<table border=\"1\" class=\"dataframe\">\n",
              "  <thead>\n",
              "    <tr style=\"text-align: right;\">\n",
              "      <th></th>\n",
              "      <th>gu_l</th>\n",
              "      <th>dong_l</th>\n",
              "      <th>s_c</th>\n",
              "      <th>used_y</th>\n",
              "      <th>square</th>\n",
              "      <th>per_cost_man</th>\n",
              "      <th>floor</th>\n",
              "      <th>YN_r</th>\n",
              "      <th>YN_top10</th>\n",
              "      <th>cost</th>\n",
              "    </tr>\n",
              "  </thead>\n",
              "  <tbody>\n",
              "    <tr>\n",
              "      <th>0</th>\n",
              "      <td>0</td>\n",
              "      <td>8</td>\n",
              "      <td>1</td>\n",
              "      <td>32</td>\n",
              "      <td>77.75</td>\n",
              "      <td>1922.829582</td>\n",
              "      <td>7</td>\n",
              "      <td>1</td>\n",
              "      <td>1</td>\n",
              "      <td>149500</td>\n",
              "    </tr>\n",
              "  </tbody>\n",
              "</table>\n",
              "</div>"
            ],
            "text/plain": [
              "   gu_l  dong_l  s_c  used_y  ...  floor  YN_r  YN_top10    cost\n",
              "0     0       8    1      32  ...      7     1         1  149500\n",
              "\n",
              "[1 rows x 10 columns]"
            ]
          },
          "metadata": {
            "tags": []
          },
          "execution_count": 60
        }
      ]
    },
    {
      "cell_type": "code",
      "metadata": {
        "id": "vGHyumSBXzxD"
      },
      "source": [
        "X = df_3.drop(['cost'], axis = 1)\n",
        "y = df_3['cost']\n",
        "\n",
        "X_train, X_test, y_train, y_test = train_test_split(X, y,\n",
        "                                                   test_size = 0.2,\n",
        "                                                   random_state = 99)"
      ],
      "execution_count": 61,
      "outputs": []
    },
    {
      "cell_type": "code",
      "metadata": {
        "colab": {
          "base_uri": "https://localhost:8080/"
        },
        "id": "q-SPbDiuX_j6",
        "outputId": "ec4400f3-470c-47af-89ea-7127b20731ae"
      },
      "source": [
        "%time\n",
        "from lightgbm import LGBMRegressor\n",
        "\n",
        "lgb = LGBMRegressor(linear_tree = True,\n",
        "                   boosting_type = 'gbdt',\n",
        "                   objective = 'regression',\n",
        "                   n_estimators = 9000,\n",
        "                   learning_rate = 0.001,\n",
        "                   max_depth = 4,\n",
        "                   n_jobs = -1)\n",
        "\n",
        "lgb.fit(X_train, y_train)"
      ],
      "execution_count": 62,
      "outputs": [
        {
          "output_type": "stream",
          "text": [
            "CPU times: user 4 µs, sys: 0 ns, total: 4 µs\n",
            "Wall time: 8.82 µs\n"
          ],
          "name": "stdout"
        },
        {
          "output_type": "execute_result",
          "data": {
            "text/plain": [
              "LGBMRegressor(boosting_type='gbdt', class_weight=None, colsample_bytree=1.0,\n",
              "              importance_type='split', learning_rate=0.001, linear_tree=True,\n",
              "              max_depth=4, min_child_samples=20, min_child_weight=0.001,\n",
              "              min_split_gain=0.0, n_estimators=9000, n_jobs=-1, num_leaves=31,\n",
              "              objective='regression', random_state=None, reg_alpha=0.0,\n",
              "              reg_lambda=0.0, silent=True, subsample=1.0,\n",
              "              subsample_for_bin=200000, subsample_freq=0)"
            ]
          },
          "metadata": {
            "tags": []
          },
          "execution_count": 62
        }
      ]
    },
    {
      "cell_type": "code",
      "metadata": {
        "colab": {
          "base_uri": "https://localhost:8080/"
        },
        "id": "A2-3GI5MYCAv",
        "outputId": "054b1f31-1f68-460b-c3a1-61e0d53fb3d2"
      },
      "source": [
        "MSE = mean_squared_error(y_test, lgb.predict(X_test))\n",
        "\n",
        "print(f'MSE : {MSE}')\n",
        "print(f'RMSE : {sqrt(MSE)}')"
      ],
      "execution_count": 63,
      "outputs": [
        {
          "output_type": "stream",
          "text": [
            "MSE : 15002672.830508133\n",
            "RMSE : 3873.3283917721374\n"
          ],
          "name": "stdout"
        }
      ]
    },
    {
      "cell_type": "code",
      "metadata": {
        "id": "I-OaMZJXYMnf"
      },
      "source": [
        ""
      ],
      "execution_count": null,
      "outputs": []
    }
  ]
}